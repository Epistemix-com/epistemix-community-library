{
 "cells": [
  {
   "cell_type": "code",
   "execution_count": null,
   "id": "9832b25b-6a88-486a-8413-d8b280119a73",
   "metadata": {
    "tags": []
   },
   "outputs": [],
   "source": [
    "from epx import Job, ModelConfig, SynthPop\n",
    "\n",
    "# For visualization\n",
    "import plotly.express as px\n",
    "import plotly.io as pio\n",
    "import plotly.graph_objects as go\n",
    "import requests\n",
    "\n",
    "# Use the Epistemix default plotly template\n",
    "r = requests.get(\"https://gist.githubusercontent.com/daniel-epistemix/8009ad31ebfa96ac97b7be038c014c0d/raw/320c3b0ca3dfbf7946e49c97254fa65d4753aeac/epx_plotly_theme.json\")\n",
    "if r.status_code == 200:\n",
    "    pio.templates[\"epistemix\"] = go.layout.Template(r.json())\n",
    "    pio.templates.default = \"epistemix\"\n"
   ]
  },
  {
   "cell_type": "markdown",
   "id": "eb6eefbe-f5db-4c26-a5d1-9ba3c80ca9ec",
   "metadata": {},
   "source": [
    "# Transaction Model\n",
    "\n",
    "This FRED model has all agents 18 and older go shopping. The number of stores,  items available, and item prices are specified in `data/item_inventory_TRANSACTIONS.csv`. The job will print out receipts as agents shop at their chosen stores."
   ]
  },
  {
   "cell_type": "code",
   "execution_count": null,
   "id": "fbe5f7f9-407d-421e-8e22-b228e3af9422",
   "metadata": {
    "scrolled": true,
    "tags": []
   },
   "outputs": [],
   "source": [
    "import time\n",
    "# Define model configuration. This replaces the simulation block in \n",
    "    # FRED version 11.\n",
    "transaction_config = ModelConfig(synth_pop=SynthPop(\"US_2010.v5\", [\"Loving_County_TX\"]),\n",
    "    start_date = \"2022-05-10\",\n",
    "    end_date = \"2022-05-11\")\n",
    "\n",
    "results_dir = \"/home/epx/cl-results\"\n",
    "\n",
    "# Configure FRED job\n",
    "transaction_job = Job(\n",
    "    \"model/transactions.fred\",\n",
    "    config=[transaction_config],\n",
    "    key=\"transaction_job\",\n",
    "    results_dir=results_dir,\n",
    "    size=\"hot\",\n",
    "    # Select FRED version compatible with selected model\n",
    "    fred_version=\"11.0.1\"\n",
    ")\n",
    "\n",
    "\n",
    "# Execute job\n",
    "transaction_job.execute()\n",
    "\n",
    "# the following loop idles while we wait for the simulation job to finish and periodically prints an update\n",
    "update_count = 0\n",
    "update_interval = 3\n",
    "start_time = time.time()\n",
    "timeout   = 300 # timeout in seconds\n",
    "idle_time = 20   # time to wait (in seconds) before checking status again\n",
    "while str(transaction_job.status) != 'DONE':\n",
    "    if str(transaction_job.status) == 'ERROR':\n",
    "        logs = transaction_job.status.logs\n",
    "        log_msg = \"; \".join(logs.loc[logs.level == \"ERROR\"].message.tolist())\n",
    "        print(f\"Job failed with the following error:\\n '{log_msg}'\")\n",
    "        break\n",
    "    if time.time() > start_time + timeout:\n",
    "        msg = f\"Job did not finish within {timeout / 60} minutes.\"\n",
    "        raise RuntimeError(msg)\n",
    "    \n",
    "    if update_count >= update_interval:\n",
    "        update_count = 0\n",
    "        print(f\"Job is still processing after {time.time() - start_time:.0f} seconds\")\n",
    "        \n",
    "    update_count += 1\n",
    "    \n",
    "    time.sleep(idle_time)\n",
    "\n",
    "print(f\"Job completed in {time.time() - start_time:.0f} seconds\")\n",
    "\n",
    "str(transaction_job.status)"
   ]
  },
  {
   "cell_type": "markdown",
   "id": "894e0168-449c-43cf-aea7-c88f4372f6ea",
   "metadata": {},
   "source": [
    "## Data outputs\n",
    "\n",
    "First, let's look at the CSV file that we generated: "
   ]
  },
  {
   "cell_type": "code",
   "execution_count": null,
   "id": "647d6081-87ce-4e7f-be0f-7e58cfc4daaf",
   "metadata": {
    "tags": []
   },
   "outputs": [],
   "source": [
    "transactions_df = transaction_job.results.csv_output('transactions.csv')\n",
    "transactions_df"
   ]
  },
  {
   "cell_type": "markdown",
   "id": "522d3c4b-b328-4f79-a35b-986bc05af406",
   "metadata": {},
   "source": [
    "Let's use it to count how many people of each demographic group shopped at each store:"
   ]
  },
  {
   "cell_type": "code",
   "execution_count": null,
   "id": "7fa17c98-c080-456a-a5a6-6ab920d9d809",
   "metadata": {
    "tags": []
   },
   "outputs": [],
   "source": [
    "transactions_df[['id','race','store']].groupby(['race','store']).count()"
   ]
  },
  {
   "cell_type": "markdown",
   "id": "37c488e0-ab7a-47b0-b9dc-fce56320af11",
   "metadata": {},
   "source": [
    "We can visualize how much was spent at each of the three stores:"
   ]
  },
  {
   "cell_type": "code",
   "execution_count": null,
   "id": "b7b16299-f0e9-4800-969d-6c530c2efbad",
   "metadata": {
    "tags": []
   },
   "outputs": [],
   "source": [
    "fig = px.histogram(\n",
    "    transactions_df,\n",
    "    x='store',\n",
    "    y='total_spent',\n",
    "    title=\"Total spent at each store\"\n",
    ")\n",
    "fig.update_layout(\n",
    "    yaxis_title=\"Total spent ($)\",\n",
    "    xaxis_title=\"Store number\",\n",
    "    bargap=0.1,\n",
    "    title_font_size=30\n",
    ")\n",
    "fig.show()"
   ]
  },
  {
   "cell_type": "markdown",
   "id": "1e697589-6504-4b8d-b980-07bf889c78f0",
   "metadata": {},
   "source": [
    "And we can look at the shopping habits of each age group:"
   ]
  },
  {
   "cell_type": "code",
   "execution_count": null,
   "id": "4ca9014b-202c-49c3-92b4-e807d074bff7",
   "metadata": {
    "tags": []
   },
   "outputs": [],
   "source": [
    "fig = px.histogram(\n",
    "    transactions_df,\n",
    "    x='age',\n",
    "    y='total_spent',\n",
    "    color = 'store',\n",
    "    title=\"Total spent by age group\"\n",
    ")\n",
    "fig.update_layout(\n",
    "    yaxis_title=\"Total spent ($)\",\n",
    "    xaxis_title=\"Age\",\n",
    "    legend_title = \"Store No.\",\n",
    "    bargap=0.1,\n",
    "    title_font_size=30\n",
    ")\n",
    "fig.show()"
   ]
  },
  {
   "cell_type": "markdown",
   "id": "47f52eb0-f2ae-423a-a9b4-3e77d8a2a855",
   "metadata": {},
   "source": [
    "To conserve resources, be sure to delete your job and its associated results once the job itself is out-of-scope:"
   ]
  },
  {
   "cell_type": "code",
   "execution_count": null,
   "id": "3bfcb8d0-c387-4154-b279-ae1dfdf1439a",
   "metadata": {
    "tags": []
   },
   "outputs": [],
   "source": [
    "transaction_job.delete(interactive=False)"
   ]
  }
 ],
 "metadata": {
  "kernelspec": {
   "display_name": "Python 3 (ipykernel)",
   "language": "python",
   "name": "python3"
  },
  "language_info": {
   "codemirror_mode": {
    "name": "ipython",
    "version": 3
   },
   "file_extension": ".py",
   "mimetype": "text/x-python",
   "name": "python",
   "nbconvert_exporter": "python",
   "pygments_lexer": "ipython3",
   "version": "3.10.10"
  }
 },
 "nbformat": 4,
 "nbformat_minor": 5
}
