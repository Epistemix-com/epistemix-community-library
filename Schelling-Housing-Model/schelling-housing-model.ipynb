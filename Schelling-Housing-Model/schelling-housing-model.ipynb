{
 "cells": [
  {
   "cell_type": "markdown",
   "id": "0487028c-c512-435c-ab0a-55432e7c2da8",
   "metadata": {
    "tags": []
   },
   "source": [
    "### To run this model yourself: go to Run -> Run All Cells in the top left menu bar."
   ]
  },
  {
   "cell_type": "code",
   "execution_count": null,
   "id": "a4fe8d41-2d0c-454b-b197-b47560717c51",
   "metadata": {
    "tags": []
   },
   "outputs": [],
   "source": [
    "from epx import Job, ModelConfig, SynthPop\n",
    "\n",
    "import pandas as pd\n",
    "import json\n",
    "import plotly.express as px\n",
    "import plotly.io as pio\n",
    "import time\n",
    "import plotly.graph_objects as go\n",
    "import requests\n",
    "\n",
    "# Use the Epistemix default plotly template\n",
    "r = requests.get(\"https://gist.githubusercontent.com/daniel-epistemix/8009ad31ebfa96ac97b7be038c014c0d/raw/320c3b0ca3dfbf7946e49c97254fa65d4753aeac/epx_plotly_theme.json\")\n",
    "if r.status_code == 200:\n",
    "    pio.templates[\"epistemix\"] = go.layout.Template(r.json())\n",
    "    pio.templates.default = \"epistemix\""
   ]
  },
  {
   "cell_type": "markdown",
   "id": "4e120840-a5a3-4bdb-9a3e-fd452fe7ef62",
   "metadata": {},
   "source": [
    "# Schelling Model\n",
    "\n",
    "An implementation of the Schelling model of racial segregation in housing, using the household locations (N~8000) of Kewaunee County, Wisconsin. If you'd like to learn more about how this model works in detail, check out Lesson 8 in the Quickstart Guide.\n",
    "\n",
    "In brief, agents are assigned one of two colors, in this case blue and red. At each timestep in the simulation, agents assess the color distribution of the residents in their block group and determine if enough agents are of a similar color to themselves.\n",
    "\n",
    "If the agent is happy with the number of similar agents, they remain in their current household. If they are unhappy, the seek a new location to live from a shared list of available, empty houses.  This cycle repeats everyday.\n",
    "\n",
    "## Key simulation variables\n",
    "\n",
    "- number of households: 7,393\n",
    "- fraction of household that are empty: 0.1\n",
    "- desired neighborhood similarity fraction: 0.5"
   ]
  },
  {
   "cell_type": "code",
   "execution_count": null,
   "id": "3093175d-0824-4069-9636-8a92a0af6deb",
   "metadata": {
    "tags": []
   },
   "outputs": [],
   "source": [
    "schelling_config = ModelConfig(\n",
    "    synth_pop=SynthPop(\"US_2010.v5\", [\"Kewaunee_County_WI\"]),\n",
    "    start_date=\"2023-01-01\",\n",
    "    end_date=\"2023-01-14\",\n",
    ")\n",
    "\n",
    "schelling_job = Job(\n",
    "    \"model/schelling_block.fred\",\n",
    "    config=[schelling_config],\n",
    "    key=\"cl_schelling_job\",\n",
    "    fred_version=\"11.0.1\",\n",
    "    results_dir=\"/home/epx/cl-results\"\n",
    ")\n",
    "\n",
    "schelling_job.execute()\n",
    "\n",
    "# the following loop idles while we wait for the simulation job to finish and periodically prints an update\n",
    "update_count = 0\n",
    "update_interval = 3\n",
    "start_time = time.time()\n",
    "timeout   = 300 # timeout in seconds\n",
    "idle_time = 20   # time to wait (in seconds) before checking status again\n",
    "while str(schelling_job.status) != 'DONE':\n",
    "    if str(schelling_job.status) == 'ERROR':\n",
    "        logs = schelling_job.status.logs\n",
    "        log_msg = \"; \".join(logs.loc[logs.level == \"ERROR\"].message.tolist())\n",
    "        print(f\"Job failed with the following error:\\n '{log_msg}'\")\n",
    "        break\n",
    "    if time.time() > start_time + timeout:\n",
    "        msg = f\"Job did not finish within {timeout / 60} minutes.\"\n",
    "        raise RuntimeError(msg)\n",
    "    \n",
    "    if update_count >= update_interval:\n",
    "        update_count = 0\n",
    "        print(f\"Job is still processing after {time.time() - start_time:.0f} seconds\")\n",
    "        \n",
    "    update_count += 1\n",
    "    \n",
    "    time.sleep(idle_time)\n",
    "\n",
    "print(f\"Job completed in {time.time() - start_time:.0f} seconds\")\n",
    "\n",
    "str(schelling_job.status)"
   ]
  },
  {
   "cell_type": "code",
   "execution_count": null,
   "id": "c9c93963-06dd-42df-ae4b-3a5ac24ecc4f",
   "metadata": {
    "tags": []
   },
   "outputs": [],
   "source": [
    "# prep the data for visualization\n",
    "\n",
    "block_history = schelling_job.results.csv_output(\"block_color_history.csv\")\n",
    "house_info = schelling_job.results.csv_output(\"household_info.csv\")\n",
    "agent_info = schelling_job.results.csv_output(\"agent_info.csv\")\n",
    "agent_house_history = schelling_job.results.csv_output(\"agent_house_history.csv\")\n",
    "agent_house_history = pd.merge(\n",
    "    agent_house_history,\n",
    "    house_info[[\"household_id\",\"house_lat\",\"house_long\"]],\n",
    "    how=\"left\",on=\"household_id\"\n",
    ")"
   ]
  },
  {
   "cell_type": "markdown",
   "id": "3df53f14-150d-4296-9413-0250462fe501",
   "metadata": {
    "tags": []
   },
   "source": [
    "In the map below, each colored dot represents a householder agent who is either blue or red. Over time, the dots move around as agents who are unhappy seek out a new home in a block group that meets the similarity value defined the variable `desired_similarity`. The blue lines on the map show the boundaries of the block groups that are included in this simulation (these boundaries were downloaded from the [U.S. census website](https://www.census.gov/geographies/mapping-files/time-series/geo/carto-boundary-file.2010.html#list-tab-OZSS213R7R9GVKFO5Y).)\n",
    "\n",
    "This animated map shows that by about 14 days into the simulation, the population has reached a stable equilibrium situation characterized by completely homogenous block groups - all despite the fact that the population started with a roughly 50:50 spatial distribution of color and that people are happy living with up to 50% different colored agents."
   ]
  },
  {
   "cell_type": "code",
   "execution_count": null,
   "id": "2f667d1b-1b51-4b79-8459-16a72467961b",
   "metadata": {
    "tags": []
   },
   "outputs": [],
   "source": [
    "# calculate lat, long to pass to mapbox for map center\n",
    "lat_cen = house_info['house_lat'].median()\n",
    "long_cen = house_info['house_long'].median()\n",
    "\n",
    "# set up Epistemix house map tiles\n",
    "mapstyle=\"mapbox://styles/epxadmin/cm0ve9m13000501nq8q1zdf5p\"\n",
    "token=\"pk.eyJ1IjoiZXB4YWRtaW4iLCJhIjoiY20wcmV1azZ6MDhvcTJwcTY2YXpscWsxMSJ9._ROunfMS6hgVh1LPQZ4NGg\"\n",
    "\n",
    "# load the block group boundary file\n",
    "f = open(\"Kewaunee_County_WI_blockgroups.geojson\")\n",
    "blocks_json = json.load(f)\n",
    "\n",
    "# create the figure\n",
    "fig1 = px.scatter_mapbox(\n",
    "    agent_house_history, lat=\"house_lat\", lon=\"house_long\",\n",
    "    color=\"agent_color\",\n",
    "    color_continuous_scale=[\n",
    "                (0, \"rgba(40,  95, 223, 1)\"), # blue\n",
    "                (1, \"rgba(235, 90, 54,  1)\")  # red\n",
    "    ],\n",
    "    animation_frame='date', height=700, zoom=9.25,\n",
    "    labels={'agent_color':'Agent color'}\n",
    ")\n",
    "\n",
    "fig1.update_layout(\n",
    "    mapbox={'layers': [{\n",
    "        'source': blocks_json,\n",
    "        'type': \"line\", 'below': \"traces\", 'color': \"#6383F3\",\n",
    "        'opacity': 1.0\n",
    "    }]}\n",
    ")\n",
    "\n",
    "fig1.update_layout(mapbox_style=mapstyle, mapbox_accesstoken=token)\n",
    "fig1.update(layout_coloraxis_showscale=False)\n",
    "fig1.update_layout(margin={\"r\":20,\"t\":10,\"l\":10,\"b\":3})\n",
    "fig1.show()"
   ]
  },
  {
   "cell_type": "markdown",
   "id": "0498a1a6-edab-4dbe-96aa-c26435f3e1bd",
   "metadata": {},
   "source": [
    "We can also examine the aggregate characteristics of the county's block groups. The map below shows each block group of Kewaunee County, with the color representing the fraction of households that are blue."
   ]
  },
  {
   "cell_type": "code",
   "execution_count": null,
   "id": "7c7110cb-e34c-4eec-9fe3-11471eb13a1b",
   "metadata": {
    "tags": []
   },
   "outputs": [],
   "source": [
    "# calculate lat, long to pass to mapbox for map center\n",
    "lat_cen = house_info['house_lat'].median()\n",
    "long_cen = house_info['house_long'].median()\n",
    "\n",
    "# set up Epistemix house map tiles\n",
    "mapstyle=\"mapbox://styles/epxadmin/cm0ve9m13000501nq8q1zdf5p\"\n",
    "token=\"pk.eyJ1IjoiZXB4YWRtaW4iLCJhIjoiY20wcmV1azZ6MDhvcTJwcTY2YXpscWsxMSJ9._ROunfMS6hgVh1LPQZ4NGg\"\n",
    "\n",
    "# load the block group boundary file\n",
    "f = open(\"Kewaunee_County_WI_blockgroups.geojson\")\n",
    "blocks_json = json.load(f)\n",
    "\n",
    "# create the figure\n",
    "fig2 = px.choropleth_mapbox(\n",
    "    block_history, geojson=blocks_json,\n",
    "    locations='blockgroup_id', color='frac_blue',\n",
    "    color_continuous_scale=[\n",
    "        (0,\"rgba(235,90,54,1)\"), # blue\n",
    "        (1,\"rgba(40, 95, 223, 1)\") # red\n",
    "        #(0,\"rgba(249, 183, 45,1)\"),\n",
    "        #(1,\"rgba(196, 200, 204,1)\"),\n",
    "        #(1,\"rgba(104, 148, 255,1)\")\n",
    "    ],\n",
    "    range_color=(0, 1),featureidkey=\"properties.GEOID10\",\n",
    "    hover_data=block_history.columns,\n",
    "    animation_frame='date',\n",
    "    zoom=9.25, height=700,\n",
    "    center = {\"lat\": lat_cen,\"lon\": long_cen},\n",
    "    labels={'frac_blue':'Blue fraction'}\n",
    ")\n",
    "\n",
    "fig2.update_layout(mapbox_style=mapstyle, mapbox_accesstoken=token)\n",
    "fig2.layout.updatemenus[0].buttons[0].args[1]['frame']['duration'] = 300\n",
    "fig2.update_layout(coloraxis_colorbar_orientation='h')\n",
    "fig2.update_layout(coloraxis_colorbar_y=-0.1)\n",
    "fig2.update_layout(margin={\"r\":0,\"t\":0,\"l\":0,\"b\":0.3})\n",
    "fig2.show()"
   ]
  },
  {
   "cell_type": "code",
   "execution_count": null,
   "id": "01277f27-8ff4-4ff2-a461-6b7adfeb2836",
   "metadata": {
    "tags": []
   },
   "outputs": [],
   "source": [
    "# deleting our job now that we are done with it\n",
    "schelling_job.delete(interactive=False)"
   ]
  }
 ],
 "metadata": {
  "kernelspec": {
   "display_name": "Python 3 (ipykernel)",
   "language": "python",
   "name": "python3"
  },
  "language_info": {
   "codemirror_mode": {
    "name": "ipython",
    "version": 3
   },
   "file_extension": ".py",
   "mimetype": "text/x-python",
   "name": "python",
   "nbconvert_exporter": "python",
   "pygments_lexer": "ipython3",
   "version": "3.10.10"
  }
 },
 "nbformat": 4,
 "nbformat_minor": 5
}
