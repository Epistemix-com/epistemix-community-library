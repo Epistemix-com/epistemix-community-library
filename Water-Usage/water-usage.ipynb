{
 "cells": [
  {
   "cell_type": "markdown",
   "id": "6293e1da-1b45-48b3-95e8-6cd43e7dc7b5",
   "metadata": {},
   "source": [
    "# Water Usage Model"
   ]
  },
  {
   "cell_type": "code",
   "execution_count": null,
   "id": "83505acb-1d43-42d7-bfb8-b74d9737e1a4",
   "metadata": {
    "tags": []
   },
   "outputs": [],
   "source": [
    "from epx import Job, ModelConfig, SynthPop\n",
    "import json\n",
    "import matplotlib.pyplot as plt\n",
    "import pandas as pd\n",
    "import plotly.express as px\n",
    "import plotly.io as pio\n",
    "import time\n",
    "import plotly.graph_objects as go\n",
    "import requests\n",
    "\n",
    "# Use the Epistemix default plotly template\n",
    "r = requests.get(\"https://gist.githubusercontent.com/daniel-epistemix/8009ad31ebfa96ac97b7be038c014c0d/raw/320c3b0ca3dfbf7946e49c97254fa65d4753aeac/epx_plotly_theme.json\")\n",
    "if r.status_code == 200:\n",
    "    pio.templates[\"epistemix\"] = go.layout.Template(r.json())\n",
    "    pio.templates.default = \"epistemix\""
   ]
  },
  {
   "cell_type": "markdown",
   "id": "8137b4dd-ee9e-4593-a631-19475f90b047",
   "metadata": {},
   "source": [
    "## Household Water Usage Depends on Demographics\n",
    "\n",
    "The basic water usage model calculates daily household water use. First, the number of individuals (adults at least 16 years old and juveniles younger than 16) in each household is extracted. Then, the household size is used to determine the number of times each household does each activity (except for lawn watering which is done an average of once/week regardless of household size). The following activities are assumed to add to water usage: \n",
    "\n",
    "| Activity      | Water used (L) | Frequency |\n",
    "| ----------- | ----------- |-----------|\n",
    "| Lawn      | 3000       |  1/week |\n",
    "| Laundry   | 70        |   1/day |\n",
    "| Toilet    | 9 | 8/day |\n",
    "| Shower    | 50 | 1/day |\n",
    "| Eat/Drink | 8  | 5/day |\n",
    "| Clean     | 3  | 1/day |\n",
    "\n",
    "\n",
    "The table above shows the average amount of water used for each activity for a single individual. The total amount of water used each day is drawn from a poisson distribution with the averages shown in the table above and multiplied by household size. "
   ]
  },
  {
   "cell_type": "code",
   "execution_count": null,
   "id": "0a5aa088-09d8-49ba-bb8a-e52d86b34a5b",
   "metadata": {
    "tags": []
   },
   "outputs": [],
   "source": [
    "water_config = ModelConfig(\n",
    "    synth_pop=SynthPop(\"US_2010.v5\", [\"Kewaunee_County_WI\"]),\n",
    "    start_date=\"2022-01-01\",\n",
    "    end_date=\"2025-01-01\",\n",
    ")\n",
    "\n",
    "water_job = Job(\n",
    "    \"model/main.fred\",\n",
    "    config=[water_config],\n",
    "    key=\"cl_water_job\",\n",
    "    fred_version=\"11.0.1\",\n",
    "    results_dir=\"/home/epx/cl-results\"\n",
    ")\n",
    "\n",
    "water_job.execute()\n",
    "\n",
    "# the following loop idles while we wait for the simulation job to finish and periodically prints an update\n",
    "update_count = 0\n",
    "update_interval = 3\n",
    "start_time = time.time()\n",
    "timeout   = 720 # timeout in seconds\n",
    "idle_time = 20   # time to wait (in seconds) before checking status again\n",
    "while str(water_job.status) != 'DONE':\n",
    "    if str(water_job.status) == 'ERROR':\n",
    "        logs = water_job.status.logs\n",
    "        log_msg = \"; \".join(logs.loc[logs.level == \"ERROR\"].message.tolist())\n",
    "        print(f\"Job failed with the following error:\\n '{log_msg}'\")\n",
    "        break\n",
    "    if time.time() > start_time + timeout:\n",
    "        msg = f\"Job did not finish within {timeout / 60} minutes.\"\n",
    "        raise RuntimeError(msg)\n",
    "    \n",
    "    if update_count >= update_interval:\n",
    "        update_count = 0\n",
    "        print(f\"Job is still processing after {time.time() - start_time:.0f} seconds\")\n",
    "        \n",
    "    update_count += 1\n",
    "    \n",
    "    time.sleep(idle_time)\n",
    "\n",
    "print(f\"Job completed in {time.time() - start_time:.0f} seconds\")\n",
    "\n",
    "str(water_job.status)"
   ]
  },
  {
   "cell_type": "code",
   "execution_count": null,
   "id": "8851ae12-50ce-412c-8a32-dc2850db91e9",
   "metadata": {
    "tags": []
   },
   "outputs": [],
   "source": [
    "household_data = water_job.results.csv_output('monthly_household_data.csv')\n",
    "household_data['Date'] = pd.to_datetime(household_data['Date'], format=\"%Y%m%d\")"
   ]
  },
  {
   "cell_type": "code",
   "execution_count": null,
   "id": "bb612182-81a2-4d20-8136-c209a70d2a71",
   "metadata": {
    "tags": []
   },
   "outputs": [],
   "source": [
    "# single adults\n",
    "single_adult = household_data.loc[(household_data['Num_Adults']==1) & (household_data['Num_Kids']==0)]\n",
    "single_adult = single_adult.pivot(index='Date', columns='HH_ID', values='Household_Usage')\n",
    "mu1 = single_adult.median(axis=1).rename('Single Adult')\n",
    "lower1 = single_adult.quantile(axis=1, q=.25)\n",
    "higher1 = single_adult.quantile(axis=1, q=.75)\n",
    "\n",
    "# multi adult households\n",
    "multi_adult = household_data.loc[(household_data['Num_Adults']>1) & (household_data['Num_Kids']==0)]\n",
    "multi_adult = multi_adult.pivot(index='Date', columns='HH_ID', values='Household_Usage')\n",
    "mu2 = multi_adult.median(axis=1).rename('Multi Adult')\n",
    "lower2 = multi_adult.quantile(axis=1, q=.25)\n",
    "higher2 = multi_adult.quantile(axis=1, q=.75)\n",
    "\n",
    "# households with children\n",
    "with_kids = household_data.loc[(household_data['Num_Adults']>0) & (household_data['Num_Kids']>0)]\n",
    "with_kids = with_kids.pivot(index='Date', columns='HH_ID', values='Household_Usage')\n",
    "mu3 = with_kids.median(axis=1).rename('Adults with Kids')\n",
    "lower3 = with_kids.quantile(axis=1, q=.25)\n",
    "higher3 = with_kids.quantile(axis=1, q=.75)"
   ]
  },
  {
   "cell_type": "code",
   "execution_count": null,
   "id": "25b45a6e-73a9-4d35-bf8a-2da79d541779",
   "metadata": {},
   "outputs": [],
   "source": [
    "medians = pd.concat([mu1, mu2, mu3], axis=1)\n",
    "\n",
    "usage_by_comp = px.line(medians, \n",
    "                     labels={\n",
    "                       \"value\": \"Liters\",\n",
    "                       \"variable\": \"Household Composition\",\n",
    "                     },\n",
    "                     title=\"Total Water Usage by Households with a Given Composition\"\n",
    "                    )\n",
    "usage_by_comp.show()"
   ]
  },
  {
   "cell_type": "code",
   "execution_count": null,
   "id": "05cc27d8-40ee-46eb-ae2a-1682ea76e340",
   "metadata": {
    "tags": []
   },
   "outputs": [],
   "source": [
    "bg_usage = household_data[[\"BG_ID\", \"Household_Usage\"]].groupby(\"BG_ID\").sum().reset_index().rename(columns={\"Household_Usage\": \"Usage\"})\n",
    "\n",
    "# calculate lat, long to pass to mapbox for map center\n",
    "lat_cen = 44.507970   # Kewaunee_County, WI\n",
    "long_cen = -87.626833 # Kewaunee_County, WI\n",
    "\n",
    "# set up Epistemix house map tiles\n",
    "mapstyle=\"mapbox://styles/epxadmin/cm0ve9m13000501nq8q1zdf5p\"\n",
    "token=\"pk.eyJ1IjoiZXB4YWRtaW4iLCJhIjoiY20wcmV1azZ6MDhvcTJwcTY2YXpscWsxMSJ9._ROunfMS6hgVh1LPQZ4NGg\"\n",
    "\n",
    "# load the block group boundary file\n",
    "f = open(\"shapefiles/Kewaunee_County_WI_blockgroups.geojson\")\n",
    "blocks_json = json.load(f)\n",
    "\n",
    "# create the figure\n",
    "fig2 = px.choropleth_mapbox(\n",
    "    bg_usage, geojson=blocks_json,\n",
    "    locations='BG_ID', color='Usage',\n",
    "    color_continuous_scale=[\n",
    "        (0, \"rgba(40, 95, 223, 1)\"), # blue\n",
    "        (1, \"rgba(235, 90, 54, 1)\") # red\n",
    "    ],\n",
    "    featureidkey=\"properties.GEOID\",\n",
    "    hover_data=bg_usage.columns,\n",
    "    zoom=8.5, height=700,\n",
    "    center = {\"lat\": lat_cen,\"lon\": long_cen},\n",
    "    labels={'Usage':'Total Usage<br>(Liters)'}\n",
    ")\n",
    "\n",
    "fig2.update_layout(mapbox_style=mapstyle, mapbox_accesstoken=token)\n",
    "fig2.update_layout(coloraxis_colorbar_orientation='h')\n",
    "fig2.update_layout(coloraxis_colorbar_y=-0.1)\n",
    "fig2.update_layout(margin={\"r\":0,\"t\":0,\"l\":0,\"b\":0.3})\n",
    "fig2.show()"
   ]
  },
  {
   "cell_type": "code",
   "execution_count": null,
   "id": "7d04f556-502e-453d-bea9-a73236e16b3c",
   "metadata": {
    "tags": []
   },
   "outputs": [],
   "source": [
    "# deleting our job now that we are done with it\n",
    "water_job.delete(interactive=False)"
   ]
  }
 ],
 "metadata": {
  "kernelspec": {
   "display_name": "Python 3 (ipykernel)",
   "language": "python",
   "name": "python3"
  },
  "language_info": {
   "codemirror_mode": {
    "name": "ipython",
    "version": 3
   },
   "file_extension": ".py",
   "mimetype": "text/x-python",
   "name": "python",
   "nbconvert_exporter": "python",
   "pygments_lexer": "ipython3",
   "version": "3.10.10"
  }
 },
 "nbformat": 4,
 "nbformat_minor": 5
}
