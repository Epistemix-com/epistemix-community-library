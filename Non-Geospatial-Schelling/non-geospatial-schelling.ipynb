{
 "cells": [
  {
   "cell_type": "markdown",
   "id": "dcc8e08b-cbc0-46e9-ac45-ee2061bbc84f",
   "metadata": {},
   "source": [
    "### To get started with this notebook: \n",
    "\n",
    "#### Select `Run All Cells` from the `Run` drop-down in the top left menu bar."
   ]
  },
  {
   "cell_type": "code",
   "execution_count": null,
   "id": "4925fbab-fc09-404b-b0f5-ddbdbe90e9e6",
   "metadata": {
    "tags": []
   },
   "outputs": [],
   "source": [
    "from epx import Job, ModelConfig, SynthPop\n",
    "\n",
    "import animate as animate\n",
    "from IPython.display import HTML\n",
    "import networkx as nx\n",
    "from networkx.classes.reportviews import NodeView\n",
    "from tempfile import NamedTemporaryFile\n",
    "import shutil\n",
    "from statistics import mean, StatisticsError"
   ]
  },
  {
   "cell_type": "markdown",
   "id": "1b0b04d6-b768-4050-8230-f35b744b7376",
   "metadata": {
    "tags": []
   },
   "source": [
    "# Classic Schelling Model on a Grid\n",
    "\n",
    "Thomas Schelling's classic agent-based model of residential segregation demonstrates that, under certain circumstances, individual preferences for having a relatively modest fraction of your neighbors share a common characteristic (in his model, race; in our implementation, red or blue color) are sufficient to generate communities that exhibit a surprising degree of segregation along the lines of that characterstic.\n",
    "\n",
    "One of those circumstances in that original model is that the agents live on a grid of households, where each household has 8 neighboring households, some fraction of which are unoccupied. Then, agents evaluate whether they are happy with their current household location by determining whether the fraction of their neighbors that share the same value for the key characteristic exceeds a given threshold. If an agent determines that they are unhappy with their current household location, then they will move to a random unoccupied house.\n",
    "\n",
    "However, we can think of a grid as being just one special case of a network topology and ask: How (if at all) do the dynamics of the Schelling model change if we change the network topology?\n",
    "\n",
    "This is more than just an academic question --- there are many spaces, e.g., online spaces, where agents might choose to seek out \"neighbors\" who are \"similar\" to them in some way, but where their choice of neighbors is less limited by the geography of the physical environment. And, in these settings, as in the (stylized) physical setting of the original models, the dynamics of Schelling-type models can tell us something about how communities might emerge in those environments. For example, if we consider the network as representing a conduit for information, in addition to representing a \"neighbor\" relationship, e.g., on a social media platform, then the tendency of agents to \"segregate\" (or not \"segregate\") in that environment may help uncover insights about phenomena like political polarization or extremification (think \"echo chambers\" or \"filter bubbles\").\n",
    "\n",
    "One advantage of the structured environment of the grid, however, is that it is easy to see whether segregation emerges in a given simulation. It is very visually apparent! To explore the dynamics of the Schelling model on more general networks, which in general do not have a convenient standard visual representation like a grid, we will need to use new tools. For each simulation:\n",
    "1. We compute the average fraction of red neighbors across all agents of each color. For blue agents, this is the fraction of their neighbors who are different from them. For red agents, it is the fraction of their neighbors who are similar to them.\n",
    "2. We create an animation of the network on each day of the simulation, where an agent's position in the horizontal direction indicates their fraction of red neighbors. Thus, blue (resp. red) agents will move to the left (right) as their fraction of similar neighbors increases. An agent's position in the vertical direction is arbitrary. (I recommend clicking through these animations frame-by-frame using the single-arrow-followed-by-vertical-bar buttons.)\n",
    "\n",
    "First, let's look at these outputs for the standard Schelling model on a grid:"
   ]
  },
  {
   "cell_type": "code",
   "execution_count": null,
   "id": "0b3cc514-e06a-4a1a-b97b-8e15371190e7",
   "metadata": {
    "tags": []
   },
   "outputs": [],
   "source": [
    "# Define model configuration and associated job, plus a job-running helper function\n",
    "# Note that we need to pass a placeholder location, as \"none\" is not yet supported.\n",
    "\n",
    "schelling_grid_config = ModelConfig(synth_pop=SynthPop(\"US_2010.v5\", [\"Loving_County_TX\"]),\n",
    "    start_date = \"2023-01-01\",\n",
    "    end_date = \"2023-01-10\")\n",
    "\n",
    "\n",
    "# Configure FRED job\n",
    "\n",
    "results_dir = \"/home/epx/cl-results\"\n",
    "\n",
    "schelling_grid_job = Job(\n",
    "    \"model/schelling_grid.fred\",\n",
    "    config=[schelling_grid_config],\n",
    "    key=\"ng_schelling_grid_job\",\n",
    "    results_dir=results_dir,\n",
    "    size=\"hot\",\n",
    "    # Select FRED version compatible with selected model\n",
    "    fred_version=\"11.1.1\"\n",
    ")\n",
    "\n",
    "import time\n",
    "def exec_job_with_timer(job: Job):\n",
    "    \n",
    "    job.execute()\n",
    "    \n",
    "    # the following loop idles while we wait for the simulation job to finish and periodically prints an update\n",
    "    update_count = 0\n",
    "    update_interval = 3\n",
    "    start_time = time.time()\n",
    "    timeout   = 300 # timeout in seconds\n",
    "    idle_time = 20   # time to wait (in seconds) before checking status again\n",
    "    while str(job.status) != 'DONE':\n",
    "        if str(job.status) == 'ERROR':\n",
    "            logs = job.status.logs\n",
    "            log_msg = \"; \".join(logs.loc[logs.level == \"ERROR\"].message.tolist())\n",
    "            print(f\"Job failed with the following error:\\n '{log_msg}'\")\n",
    "            break\n",
    "        if time.time() > start_time + timeout:\n",
    "            msg = f\"Job did not finish within {timeout / 60} minutes.\"\n",
    "            raise RuntimeError(msg)\n",
    "        \n",
    "        if update_count >= update_interval:\n",
    "            update_count = 0\n",
    "            print(f\"Job is still processing after {time.time() - start_time:.0f} seconds\")\n",
    "        \n",
    "    update_count += 1\n",
    "    \n",
    "    time.sleep(idle_time)\n",
    "\n",
    "    print(f\"Job completed in {time.time() - start_time:.0f} seconds\")\n",
    "\n",
    "    print(job.status)\n",
    "    pass\n",
    "    "
   ]
  },
  {
   "cell_type": "code",
   "execution_count": null,
   "id": "fa07e4c8-4dc1-4f06-8fbe-fee5b4849be6",
   "metadata": {
    "tags": []
   },
   "outputs": [],
   "source": [
    "num_blue = 90\n",
    "num_red = 90\n",
    "extra = 20\n",
    "\n",
    "attributes = {\n",
    "    str(1000000000 + offset): int(offset >= num_blue) for offset in range(num_blue+num_red)\n",
    "}\n",
    "\n",
    "lines = ['ID,my_color\\n'] + \\\n",
    "        [f'{agent_id},{color}\\n' for agent_id, color in attributes.items()] + \\\n",
    "        [f'{1000000000 + offset},{-1}\\n' for offset in range(num_red+num_blue,num_red+num_blue+extra)]\n",
    "\n",
    "\n",
    "lines\n",
    "\n",
    "with NamedTemporaryFile(\"w\") as temp:\n",
    "    \n",
    "    # Write the temporary file\n",
    "    temp.writelines(lines)\n",
    "    \n",
    "    temp.seek(0) # return to beginning of tempfile\n",
    "    \n",
    "    shutil.move(temp.name, '_agents.txt') # rename the temporary file to a name that FRED will recognize\n",
    "    \n",
    "    exec_job_with_timer(schelling_grid_job)\n",
    "    \n",
    "    shutil.move('_agents.txt', temp.name) # restore the name of the temporary file to close properly\n",
    "    \n"
   ]
  },
  {
   "cell_type": "code",
   "execution_count": null,
   "id": "9825b2e1-1bc2-49e5-8c7f-5333411aaf4e",
   "metadata": {
    "tags": []
   },
   "outputs": [],
   "source": [
    "# Helper function to convert internal node id (integer, starting at 0)\n",
    "    # to our agent IDs (defined above)\n",
    "def get_agent_id(node_id: int, nodes: NodeView) -> str:\n",
    "    return nodes[node_id]['id'].replace('\"','')\n",
    "\n",
    "networks = []\n",
    "\n",
    "\n",
    "for day in range(0, 10):\n",
    "    friendship = schelling_grid_job.results.network(\"Friendship\", is_directed=False, sim_day=day)[0]\n",
    "    nodes = friendship.nodes\n",
    "    \n",
    "    node_colors = {}\n",
    "    frac_red_dict = {}\n",
    "    \n",
    "    for node in nodes:\n",
    "        # Extract internal ID of node (node_id) and associated agent (agent_id)\n",
    "        node_id = node\n",
    "        agent_id = get_agent_id(node, nodes)\n",
    "        \n",
    "        my_color = attributes[agent_id]\n",
    "        node_colors[node] = my_color\n",
    "        \n",
    "        try:\n",
    "            similarity = mean([int(my_color == attributes[get_agent_id(neighbor, nodes)]) for neighbor in nx.neighbors(friendship, node)])\n",
    "        except StatisticsError:\n",
    "            similarity = 1\n",
    "            \n",
    "        frac_red_dict[node] = my_color*similarity + (1 - my_color)*(1-similarity)\n",
    "        \n",
    "    nx.set_node_attributes(friendship, node_colors, name=\"my_color\")\n",
    "    nx.set_node_attributes(friendship, frac_red_dict, name=\"frac_red\")\n",
    "    networks.append(friendship)\n",
    "    \n",
    "friendship_final = networks[-1]\n",
    "blue = [frac for ID, frac in nx.get_node_attributes(friendship_final, 'frac_red').items() if (int(ID) % 1000000000) <  num_blue ]\n",
    "red = [frac for ID, frac in nx.get_node_attributes(friendship_final, 'frac_red').items() if (int(ID) % 1000000000) >= num_blue ]\n",
    "\n",
    "print(f'At the end of the simulation:')\n",
    "print(f'    Average frac_red for blue agents: {round(mean(blue), 3)};')\n",
    "print(f'    Average frac_red for red agents:  {round(mean(red),  3)}.')\n",
    "print()\n",
    "\n",
    "animation = animate.network_visualization(networks)\n",
    "HTML(animation.to_jshtml())"
   ]
  },
  {
   "cell_type": "code",
   "execution_count": null,
   "id": "0f28336a-f02e-4f5f-8095-a2e66364f026",
   "metadata": {},
   "outputs": [],
   "source": [
    "schelling_grid_job.delete(interactive=False)"
   ]
  },
  {
   "cell_type": "markdown",
   "id": "42e04fe9-e6c5-47cb-95ea-ad6645cc6982",
   "metadata": {
    "tags": []
   },
   "source": [
    "# Schelling Model on a Random Network\n",
    "\n",
    "Now, let's adapt the model to the abstract network space. First, we will replace the grid with a randomly generated network. To keep the comparison similar, we specify that each agent should still have 8 possible neighbors. However, unlike in a grid, those neighbor spots need not be connected to each other according to any pattern. \n",
    "\n",
    "Second, we can adapt agent behavior to the new setting. When an agent is unhappy --- i.e., when their fraction of similar neighbors is below their desired threshold --- agents in a more abstract space may be more free to change their situation than they would be in a physical environment. So, rather than have agents \"move\" to an entirely new location, we can instead let agents that are unhappy disconnect an edge to a neighbor who does not share their color and re-connect that edge to a random agent in the network who has at least one of their possible neighbor spots open.\n",
    "\n",
    "Let's take a look at our outputs under these new conditions:"
   ]
  },
  {
   "cell_type": "code",
   "execution_count": null,
   "id": "17aab2aa-e189-4eab-b971-7d9ddee39633",
   "metadata": {
    "tags": []
   },
   "outputs": [],
   "source": [
    "# Define FRED job configuration\n",
    "\n",
    "schelling_random_config = ModelConfig(synth_pop=SynthPop(\"US_2010.v5\", [\"Loving_County_TX\"]),\n",
    "    start_date = \"2023-01-01\",\n",
    "    end_date = \"2023-01-10\")\n",
    "\n",
    "\n",
    "# Configure FRED job\n",
    "\n",
    "results_dir = \"/home/epx/cl-results\"\n",
    "\n",
    "schelling_random_job = Job(\n",
    "    \"model/schelling_random_network.fred\",\n",
    "    config=[schelling_random_config],\n",
    "    key=\"ng_schelling_random_job\",\n",
    "    results_dir=results_dir,\n",
    "    size=\"hot\",\n",
    "    # Select FRED version compatible with selected model\n",
    "    fred_version=\"11.1.1\"\n",
    ")"
   ]
  },
  {
   "cell_type": "code",
   "execution_count": null,
   "id": "37642cbd-6cfd-4112-a7cc-631945bf55a4",
   "metadata": {
    "tags": []
   },
   "outputs": [],
   "source": [
    "num_blue = 90\n",
    "num_red = 90\n",
    "extra = 20\n",
    "\n",
    "attributes = {\n",
    "    str(1000000000 + offset): int(offset >= num_blue) for offset in range(num_blue+num_red)\n",
    "}\n",
    "\n",
    "lines = ['ID,my_color\\n'] + \\\n",
    "        [f'{agent_id},{color}\\n' for agent_id, color in attributes.items()] + \\\n",
    "        [f'{1000000000 + offset},{-1}\\n' for offset in range(num_red+num_blue,num_red+num_blue+extra)]\n",
    "\n",
    "\n",
    "with NamedTemporaryFile(\"w\") as temp:\n",
    "    \n",
    "    # Write the temporary file\n",
    "    temp.writelines(lines)\n",
    "    \n",
    "    temp.seek(0) # return to beginning of tempfile\n",
    "    \n",
    "    shutil.move(temp.name, '_agents.txt') # rename the temporary file to a name that FRED will recognize\n",
    "    \n",
    "    exec_job_with_timer(schelling_random_job)\n",
    "    \n",
    "    shutil.move('_agents.txt', temp.name) # restore the name of the temporary file to close properly"
   ]
  },
  {
   "cell_type": "code",
   "execution_count": null,
   "id": "8235f1ac-7f17-46ed-b761-812a00fa80b0",
   "metadata": {
    "tags": []
   },
   "outputs": [],
   "source": [
    "# Helper function to convert internal node id (integer, starting at 0)\n",
    "    # to our agent IDs (defined above)\n",
    "def get_agent_id(node_id: int, nodes: NodeView) -> str:\n",
    "    return nodes[node_id]['id'].replace('\"','')\n",
    "\n",
    "networks = []\n",
    "\n",
    "\n",
    "for day in range(0, 10):\n",
    "    friendship = schelling_random_job.results.network(\"Friendship\", is_directed=False, sim_day=day)[0]\n",
    "    nodes = friendship.nodes\n",
    "    \n",
    "    node_colors = {}\n",
    "    frac_red_dict = {}\n",
    "    \n",
    "    for node in nodes:\n",
    "        # Extract internal ID of node (node_id) and associated agent (agent_id)\n",
    "        node_id = node\n",
    "        agent_id = get_agent_id(node, nodes)\n",
    "        \n",
    "        my_color = attributes[agent_id]\n",
    "        node_colors[node] = my_color\n",
    "        \n",
    "        try:\n",
    "            similarity = mean([int(my_color == attributes[get_agent_id(neighbor, nodes)]) for neighbor in nx.neighbors(friendship, node)])\n",
    "        except StatisticsError:\n",
    "            similarity = 1\n",
    "            \n",
    "        frac_red_dict[node] = my_color*similarity + (1 - my_color)*(1-similarity)\n",
    "        \n",
    "    nx.set_node_attributes(friendship, node_colors, name=\"my_color\")\n",
    "    nx.set_node_attributes(friendship, frac_red_dict, name=\"frac_red\")\n",
    "    networks.append(friendship)\n",
    "    \n",
    "friendship_final = networks[-1]\n",
    "blue = [frac for ID, frac in nx.get_node_attributes(friendship_final, 'frac_red').items() if (int(ID) % 1000000000) <  num_blue ]\n",
    "red = [frac for ID, frac in nx.get_node_attributes(friendship_final, 'frac_red').items() if (int(ID) % 1000000000) >= num_blue ]\n",
    "\n",
    "print(f'At the end of the simulation:')\n",
    "print(f'    Average frac_red for blue agents: {round(mean(blue), 3)};')\n",
    "print(f'    Average frac_red for red agents:  {round(mean(red),  3)}.')\n",
    "print()\n",
    "\n",
    "animation = animate.network_visualization(networks)\n",
    "HTML(animation.to_jshtml())"
   ]
  },
  {
   "cell_type": "code",
   "execution_count": null,
   "id": "21d28db3-a8cd-4add-97f3-aba445f9101a",
   "metadata": {},
   "outputs": [],
   "source": [
    "schelling_random_job.delete(interactive=False)"
   ]
  },
  {
   "cell_type": "markdown",
   "id": "cf182c1f-24cd-4956-ba57-b2bd14fbe956",
   "metadata": {
    "tags": []
   },
   "source": [
    "The \"segregation\" that we observe under these new conditions is noticeably less extreme than in the standard model on a grid! (For example, in the original model the average fraction of similar neighbors among all agents at the end of the simulation is more than 5/6, whereas in the new model, it is closer to 4/6).\n",
    "\n",
    "Why is this the case? That is a great question, and I don't completely know the answer! But, let's test a few hypotheses about features of the grid model that are missing from the random network model that we just formulated and see how they affect the outcomes.  "
   ]
  },
  {
   "cell_type": "markdown",
   "id": "1fcac165-24e8-4a02-b3b0-9be185fbca73",
   "metadata": {},
   "source": [
    "## Alternative 1: Rewire All Links if Unhappy\n",
    "\n",
    "One big change that we made, which we discussed above, is the decision to have agents re-connect their edges one at a time when they are unhappy. In the grid model, when an unhappy agent moves to an empty grid location, they (generally speaking) will completely change their set of neighbors all at once. So, for our first change to the random network model, we can have unhappy agents delete all their edges and randomly re-connect them:"
   ]
  },
  {
   "cell_type": "code",
   "execution_count": null,
   "id": "8859e184-34cd-475f-92c9-3251751cc756",
   "metadata": {
    "tags": []
   },
   "outputs": [],
   "source": [
    "# Define FRED job configuration\n",
    "\n",
    "schelling_random_config = ModelConfig(synth_pop=SynthPop(\"US_2010.v5\", [\"Loving_County_TX\"]),\n",
    "    start_date = \"2023-01-01\",\n",
    "    end_date = \"2023-01-10\")\n",
    "\n",
    "\n",
    "# Configure FRED job\n",
    "\n",
    "results_dir = \"/home/epx/cl-results\"\n",
    "\n",
    "schelling_random_job_2 = Job(\n",
    "    \"model/schelling_random_network_2.fred\",\n",
    "    config=[schelling_random_config],\n",
    "    key=\"ng_schelling_random_job_2\",\n",
    "    results_dir=results_dir,\n",
    "    size=\"hot\",\n",
    "    # Select FRED version compatible with selected model\n",
    "    fred_version=\"11.1.1\"\n",
    ")"
   ]
  },
  {
   "cell_type": "code",
   "execution_count": null,
   "id": "b619a48c-1180-450b-8613-5edec6bcf7c6",
   "metadata": {
    "tags": []
   },
   "outputs": [],
   "source": [
    "num_blue = 90\n",
    "num_red = 90\n",
    "extra = 20\n",
    "\n",
    "attributes = {\n",
    "    str(1000000000 + offset): int(offset >= num_blue) for offset in range(num_blue+num_red)\n",
    "}\n",
    "\n",
    "lines = ['ID,my_color\\n'] + \\\n",
    "        [f'{agent_id},{color}\\n' for agent_id, color in attributes.items()] + \\\n",
    "        [f'{1000000000 + offset},{-1}\\n' for offset in range(num_red+num_blue,num_red+num_blue+extra)]\n",
    "\n",
    "with NamedTemporaryFile(\"w\") as temp:\n",
    "    \n",
    "    # Write the temporary file\n",
    "    temp.writelines(lines)\n",
    "    \n",
    "    temp.seek(0) # return to beginning of tempfile\n",
    "    \n",
    "    shutil.move(temp.name, '_agents.txt') # rename the temporary file to a name that FRED will recognize\n",
    "    \n",
    "    exec_job_with_timer(schelling_random_job_2)\n",
    "    \n",
    "    shutil.move('_agents.txt', temp.name) # restore the name of the temporary file to close properly"
   ]
  },
  {
   "cell_type": "code",
   "execution_count": null,
   "id": "5f79a02e-f088-421d-8492-7ba7a8504932",
   "metadata": {
    "tags": []
   },
   "outputs": [],
   "source": [
    "# Helper function to convert internal node id (integer, starting at 0)\n",
    "    # to our agent IDs (defined above)\n",
    "def get_agent_id(node_id: int, nodes: NodeView) -> str:\n",
    "    return nodes[node_id]['id'].replace('\"','')\n",
    "\n",
    "networks = []\n",
    "\n",
    "\n",
    "for day in range(0, 10):\n",
    "    friendship = schelling_random_job_2.results.network(\"Friendship\", is_directed=False, sim_day=day)[0]\n",
    "    nodes = friendship.nodes\n",
    "    \n",
    "    node_colors = {}\n",
    "    frac_red_dict = {}\n",
    "    \n",
    "    for node in nodes:\n",
    "        # Extract internal ID of node (node_id) and associated agent (agent_id)\n",
    "        node_id = node\n",
    "        agent_id = get_agent_id(node, nodes)\n",
    "        \n",
    "        my_color = attributes[agent_id]\n",
    "        node_colors[node] = my_color\n",
    "        \n",
    "        try:\n",
    "            similarity = mean([int(my_color == attributes[get_agent_id(neighbor, nodes)]) for neighbor in nx.neighbors(friendship, node)])\n",
    "        except StatisticsError:\n",
    "            similarity = 1\n",
    "            \n",
    "        frac_red_dict[node] = my_color*similarity + (1 - my_color)*(1-similarity)\n",
    "        \n",
    "    nx.set_node_attributes(friendship, node_colors, name=\"my_color\")\n",
    "    nx.set_node_attributes(friendship, frac_red_dict, name=\"frac_red\")\n",
    "    networks.append(friendship)\n",
    "    \n",
    "friendship_final = networks[-1]\n",
    "blue = [frac for ID, frac in nx.get_node_attributes(friendship_final, 'frac_red').items() if (int(ID) % 1000000000) <  num_blue ]\n",
    "red = [frac for ID, frac in nx.get_node_attributes(friendship_final, 'frac_red').items() if (int(ID) % 1000000000) >= num_blue ]\n",
    "\n",
    "print(f'At the end of the simulation:')\n",
    "print(f'    Average frac_red for blue agents: {round(mean(blue), 3)};')\n",
    "print(f'    Average frac_red for red agents:  {round(mean(red),  3)}.')\n",
    "print()\n",
    "\n",
    "animation = animate.network_visualization(networks)\n",
    "HTML(animation.to_jshtml())"
   ]
  },
  {
   "cell_type": "code",
   "execution_count": null,
   "id": "464711f8-f734-4a40-8cfb-567304ac7be3",
   "metadata": {},
   "outputs": [],
   "source": [
    "schelling_random_job_2.delete(interactive=False)"
   ]
  },
  {
   "cell_type": "markdown",
   "id": "7f907baa-0fda-415e-91d3-3e7fa8802d1c",
   "metadata": {},
   "source": [
    "This appears to have a noticeable effect, but still does not get us all the way to the extreme behavior we observe with the original model. Let's try another change."
   ]
  },
  {
   "cell_type": "markdown",
   "id": "a37c9fc8-94ed-411b-82de-d866cf2d7f2e",
   "metadata": {},
   "source": [
    "## Alternative 2: Rewire All Links within a Neighborhood\n",
    "\n",
    "Another key feature of the grid that we highlighted previously is the structure that it imposes on neighborhoods. That is, when an agent moves to a new household location in the grid, they necessarily share neighbors with their new neighbors (e.g., their new neighbor to the north is the western neighbor of their neighbor to the northwest). We can incorporate a similar notion in the random network by having unhappy agents preferentially attach to clusters of new neighbors when they re-connect their edges. \n",
    "\n",
    "To be precise, when an agent is unhappy in this model, they delete all of their edges, then find a new \"central\" agent with an open neighbor spot. Then, to re-connect the rest of their deleted edges, they first look to connect with neighbors of the \"central\" agent. If they cannot re-connect all of their edges with neighbors of the \"central\" agent, then they look among neighbors and neighbors' neighbors (the \"two-hop\" neighborhood) of the central agent, and so on. Once they find a radius *r* such that the *r*-hop neighborhood of the central agent contains enough agents with empty neighbor spots, the agent re-connects their edges to agents in that neighborhood. Those agents are selected with probability proportional to their number of hops from the \"central\" agent."
   ]
  },
  {
   "cell_type": "code",
   "execution_count": null,
   "id": "5b327861-a581-43ac-8e14-4b8b1ac54215",
   "metadata": {
    "tags": []
   },
   "outputs": [],
   "source": [
    "# Define FRED job configuration\n",
    "\n",
    "schelling_random_config = ModelConfig(synth_pop=SynthPop(\"US_2010.v5\", [\"Loving_County_TX\"]),\n",
    "    start_date = \"2023-01-01\",\n",
    "    end_date = \"2023-01-10\")\n",
    "\n",
    "\n",
    "# Configure FRED job\n",
    "\n",
    "results_dir = \"/home/epx/cl-results\"\n",
    "\n",
    "schelling_random_job_3 = Job(\n",
    "    \"model/schelling_random_network_3.fred\",\n",
    "    config=[schelling_random_config],\n",
    "    key=\"ng_schelling_random_job_3\",\n",
    "    results_dir=results_dir,\n",
    "    size=\"hot\",\n",
    "    # Select FRED version compatible with selected model\n",
    "    fred_version=\"11.1.1\"\n",
    ")"
   ]
  },
  {
   "cell_type": "code",
   "execution_count": null,
   "id": "956cf518-3535-43a8-8d2e-840a9e9eecb7",
   "metadata": {
    "tags": []
   },
   "outputs": [],
   "source": [
    "num_blue = 90\n",
    "num_red = 90\n",
    "extra = 20\n",
    "\n",
    "attributes = {\n",
    "    str(1000000000 + offset): int(offset >= num_blue) for offset in range(num_blue+num_red)\n",
    "}\n",
    "\n",
    "lines = ['ID,my_color\\n'] + \\\n",
    "        [f'{agent_id},{color}\\n' for agent_id, color in attributes.items()] + \\\n",
    "        [f'{1000000000 + offset},{-1}\\n' for offset in range(num_red+num_blue,num_red+num_blue+extra)]\n",
    "\n",
    "with NamedTemporaryFile(\"w\") as temp:\n",
    "    \n",
    "    # Write the temporary file\n",
    "    temp.writelines(lines)\n",
    "    \n",
    "    temp.seek(0) # return to beginning of tempfile\n",
    "    \n",
    "    shutil.move(temp.name, '_agents.txt') # rename the temporary file to a name that FRED will recognize\n",
    "    \n",
    "    exec_job_with_timer(schelling_random_job_3)\n",
    "    \n",
    "    shutil.move('_agents.txt', temp.name) # restore the name of the temporary file to close properly"
   ]
  },
  {
   "cell_type": "code",
   "execution_count": null,
   "id": "3033e833-fb3d-44e9-8c8b-df3e2b9bdd85",
   "metadata": {
    "tags": []
   },
   "outputs": [],
   "source": [
    "# Helper function to convert internal node id (integer, starting at 0)\n",
    "    # to our agent IDs (defined above)\n",
    "def get_agent_id(node_id: int, nodes: NodeView) -> str:\n",
    "    return nodes[node_id]['id'].replace('\"','')\n",
    "\n",
    "networks = []\n",
    "\n",
    "\n",
    "for day in range(0, 10):\n",
    "    friendship = schelling_random_job_3.results.network(\"Friendship\", is_directed=False, sim_day=day)[0]\n",
    "    nodes = friendship.nodes\n",
    "    \n",
    "    node_colors = {}\n",
    "    frac_red_dict = {}\n",
    "    \n",
    "    for node in nodes:\n",
    "        # Extract internal ID of node (node_id) and associated agent (agent_id)\n",
    "        node_id = node\n",
    "        agent_id = get_agent_id(node, nodes)\n",
    "        \n",
    "        my_color = attributes[agent_id]\n",
    "        node_colors[node] = my_color\n",
    "        \n",
    "        try:\n",
    "            similarity = mean([int(my_color == attributes[get_agent_id(neighbor, nodes)]) for neighbor in nx.neighbors(friendship, node)])\n",
    "        except StatisticsError:\n",
    "            similarity = 1\n",
    "            \n",
    "        frac_red_dict[node] = my_color*similarity + (1 - my_color)*(1-similarity)\n",
    "        \n",
    "    nx.set_node_attributes(friendship, node_colors, name=\"my_color\")\n",
    "    nx.set_node_attributes(friendship, frac_red_dict, name=\"frac_red\")\n",
    "    networks.append(friendship)\n",
    "    \n",
    "friendship_final = networks[-1]\n",
    "blue = [frac for ID, frac in nx.get_node_attributes(friendship_final, 'frac_red').items() if (int(ID) % 1000000000) <  num_blue ]\n",
    "red = [frac for ID, frac in nx.get_node_attributes(friendship_final, 'frac_red').items() if (int(ID) % 1000000000) >= num_blue ]\n",
    "\n",
    "print(f'At the end of the simulation:')\n",
    "print(f'    Average frac_red for blue agents: {round(mean(blue), 3)};')\n",
    "print(f'    Average frac_red for red agents:  {round(mean(red),  3)}.')\n",
    "print()\n",
    "\n",
    "animation = animate.network_visualization(networks)\n",
    "HTML(animation.to_jshtml())"
   ]
  },
  {
   "cell_type": "code",
   "execution_count": null,
   "id": "3d11bf7a-2608-4b72-884e-865c474853d6",
   "metadata": {},
   "outputs": [],
   "source": [
    "schelling_random_job_3.delete(interactive=False)"
   ]
  },
  {
   "cell_type": "markdown",
   "id": "9e1d61aa-826e-481d-b9b9-7d2059f394b3",
   "metadata": {},
   "source": [
    "We can see that the effect of this change is small compared to the first change we made (small enough that the difference may just be due to random chance). So, we are still not able to completely explain which features of the grid network topology are so conducive to facilitating the segregation pattern. But maybe you have a new hypothesis that we haven't tested yet? If so, you can try it out on the Epistemix platform!"
   ]
  }
 ],
 "metadata": {
  "kernelspec": {
   "display_name": "Python 3 (ipykernel)",
   "language": "python",
   "name": "python3"
  },
  "language_info": {
   "codemirror_mode": {
    "name": "ipython",
    "version": 3
   },
   "file_extension": ".py",
   "mimetype": "text/x-python",
   "name": "python",
   "nbconvert_exporter": "python",
   "pygments_lexer": "ipython3",
   "version": "3.10.10"
  }
 },
 "nbformat": 4,
 "nbformat_minor": 5
}
