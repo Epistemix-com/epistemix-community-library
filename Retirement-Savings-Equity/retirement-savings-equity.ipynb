{
 "cells": [
  {
   "cell_type": "code",
   "execution_count": null,
   "id": "e15211f4-4fde-41db-a110-df9eca381c4a",
   "metadata": {
    "tags": []
   },
   "outputs": [],
   "source": [
    "from ipfn import ipfn\n",
    "import numpy as np\n",
    "import pandas as pd\n",
    "import plotly.graph_objects as go\n",
    "import plotly.io as pio\n",
    "from plotly.subplots import make_subplots\n",
    "\n",
    "from epx import Job, ModelConfig, SynthPop\n",
    "\n",
    "# Import Epistemix plotly template for visualization\n",
    "import requests\n",
    "\n",
    "# Use the Epistemix default plotly template\n",
    "r = requests.get(\"https://gist.githubusercontent.com/daniel-epistemix/8009ad31ebfa96ac97b7be038c014c0d/raw/320c3b0ca3dfbf7946e49c97254fa65d4753aeac/epx_plotly_theme.json\")\n",
    "if r.status_code == 200:\n",
    "    pio.templates[\"epistemix\"] = go.layout.Template(r.json())\n",
    "    pio.templates.default = \"epistemix\""
   ]
  },
  {
   "cell_type": "markdown",
   "id": "a4225479-59f5-435e-99a7-380aa146e67b",
   "metadata": {},
   "source": [
    "# Estimate Mortality Probabilities based on Demographic Characteristics"
   ]
  },
  {
   "cell_type": "code",
   "execution_count": null,
   "id": "32b248b0-6d46-41c1-a222-1160cd93c6f6",
   "metadata": {
    "tags": []
   },
   "outputs": [],
   "source": [
    "demographic_codes = {\n",
    "        \"female\": 0,\n",
    "        \"male\":   1,\n",
    "        \"black_female\": 20,\n",
    "        \"black_male\": 21,\n",
    "        \"white_female\": 10,\n",
    "        \"white_male\": 11\n",
    "    }"
   ]
  },
  {
   "cell_type": "code",
   "execution_count": null,
   "id": "57988499-c86b-400d-9901-3b8c7a0df4a9",
   "metadata": {
    "tags": []
   },
   "outputs": [],
   "source": [
    "lines = [\"code,probs\\n\"]\n",
    "for demo, code in demographic_codes.items():\n",
    "    filename = f'data/life_table_{demo}.csv'\n",
    "    \n",
    "    \"\"\"\n",
    "    Estimate Gompertz mortality parameters from life tables, as in Tai and Noymer, 2017:\n",
    "        https://u.demog.berkeley.edu/~andrew/papers/tai_noymer_authorfinal.pdf\n",
    "        https://doi.org/10.1007/s10144-018-0609-6\n",
    "        \n",
    "    2010 life table data saved as CSV files in the data directory. Originally from: \n",
    "        https://stacks.cdc.gov/view/cdc/26010/cdc_26010_DS1.pdf\n",
    "    \"\"\"\n",
    "    life_table = pd.read_csv(filename, skiprows=1)\n",
    "    life_table = life_table.loc[life_table[\"x\"] >= 30]\n",
    "    life_table[\"M(x)\"] = life_table[\"d(x)\"] / life_table[\"L(x)\"]\n",
    "    life_table[\"const\"] = 1\n",
    "    weights = np.diag(life_table[\"d(x)\"].to_numpy())\n",
    "    X = life_table[[\"const\", \"x\"]].to_numpy()\n",
    "    y = np.log(life_table[\"M(x)\"])\n",
    "    alpha, beta = np.linalg.inv(\n",
    "                X.T @ weights @ X \n",
    "            ) @ X.T @ weights @ y\n",
    "    \n",
    "    \"\"\"\n",
    "    Use learned Gompertz mortality parameters to predict mortality probabilities \n",
    "    for each age between 30 and 100.\n",
    "    \"\"\"\n",
    "    probs = np.exp([alpha + beta*x for x in range(30, 101)])\n",
    "    for prob in probs:\n",
    "        lines.append(str(code) + \",\" + str(prob) + \"\\n\")\n",
    "\n",
    "\"\"\"\n",
    "Save estimated mortality probabilities in a CSV file that will be accessed by the\n",
    "`read_list_table()` function in FRED.\n",
    "\"\"\"\n",
    "lines[-1] = lines[-1].strip()\n",
    "with open(\"data/mortality_probs.csv\", \"w\") as f:\n",
    "    f.writelines(lines)"
   ]
  },
  {
   "cell_type": "markdown",
   "id": "d40b8605-4c07-45ae-9853-f48d0f3bd7dd",
   "metadata": {},
   "source": [
    "# Assign Educational Attainment Probabilities based on IPF"
   ]
  },
  {
   "cell_type": "code",
   "execution_count": null,
   "id": "09ecef64-b35d-446f-a126-484c24bb5cab",
   "metadata": {
    "tags": []
   },
   "outputs": [],
   "source": [
    "\"\"\"\n",
    "Source:  U.S. Census Bureau, Current Population Survey, 2010 Annual Social and Economic Supplement\n",
    "    https://www.census.gov/data/tables/2010/demo/educational-attainment/cps-detailed-tables.html\n",
    "    (Table 3)\n",
    "\"\"\"\n",
    "age_marginals = {\n",
    "    \"No College\": {\n",
    "            \"25-34\": 15950,\n",
    "            \"35-54\": 35484,\n",
    "            \"55+\"  : 36734\n",
    "        },\n",
    "    \"Some College\": {\n",
    "            \"25-34\": 7752,\n",
    "            \"35-54\": 14025,\n",
    "            \"55+\"  : 11885\n",
    "        },\n",
    "    \"Associate's Degree\": {\n",
    "            \"25-34\": 3903,\n",
    "            \"35-54\": 8886,\n",
    "            \"55+\"  : 2460\n",
    "        },\n",
    "    \"Bachelor's Degree\": {\n",
    "            \"25-34\": 7821,\n",
    "            \"35-54\": 13738,\n",
    "            \"55+\"  : 8603\n",
    "        },\n",
    "    \"Advanced Degree\": {\n",
    "            \"25-34\": 5659,\n",
    "            \"35-54\": 12702,\n",
    "            \"55+\"  : 11317\n",
    "        }\n",
    "}\n",
    "\n",
    "sex_marginals = {\n",
    "    \"No College\": {\n",
    "            \"M\": 43597,\n",
    "            \"F\": 44570\n",
    "        },\n",
    "    \"Some College\": {\n",
    "            \"M\": 15908,\n",
    "            \"F\": 17753\n",
    "        },\n",
    "    \"Associate's Degree\": {\n",
    "            \"M\": 7662,\n",
    "            \"F\": 10597\n",
    "        },\n",
    "    \"Bachelor's Degree\": {\n",
    "            \"M\": 14853,\n",
    "            \"F\": 15308\n",
    "        },\n",
    "    \"Advanced Degree\": {\n",
    "            \"M\": 14304,\n",
    "            \"F\": 15374\n",
    "        }\n",
    "}"
   ]
  },
  {
   "cell_type": "code",
   "execution_count": null,
   "id": "d3c91160-0114-4d88-ac03-a36b907fdc38",
   "metadata": {
    "tags": []
   },
   "outputs": [],
   "source": [
    "joint_counts = []\n",
    "for attainment in age_marginals.keys():\n",
    "    initial = np.array([[15000, 15000], [15000, 15000], [15000, 15000]])\n",
    "    xip = np.array([\n",
    "                age_marginals[attainment][\"25-34\"],\n",
    "                age_marginals[attainment][\"35-54\"],\n",
    "                age_marginals[attainment][\"55+\"]\n",
    "            ])\n",
    "    xpj = np.array([\n",
    "                sex_marginals[attainment][\"M\"],\n",
    "                sex_marginals[attainment][\"F\"]\n",
    "            ])\n",
    "\n",
    "    aggregates = [xip, xpj]\n",
    "    dimensions = [[0], [1]]\n",
    "\n",
    "    IPF = ipfn.ipfn(initial, aggregates, dimensions, convergence_rate=1e-6)\n",
    "    results = IPF.iteration()\n",
    "    results = np.round(results).astype(int)\n",
    "    joint_counts.append(results)\n",
    "    print(attainment)\n",
    "    print(\"===============\")\n",
    "    print(results)\n",
    "    print()"
   ]
  },
  {
   "cell_type": "code",
   "execution_count": null,
   "id": "0480604f-d917-4972-852b-e5e6c260f083",
   "metadata": {
    "tags": []
   },
   "outputs": [],
   "source": [
    "joint_probs = np.array(joint_counts) / np.array(joint_counts).sum(axis=0)\n",
    "joint_probs"
   ]
  },
  {
   "cell_type": "code",
   "execution_count": null,
   "id": "b9cd312d-ce5c-41e6-bf52-b2027974ce1d",
   "metadata": {
    "tags": []
   },
   "outputs": [],
   "source": [
    "lines = [\"code,probs\\n\"]\n",
    "code = 0\n",
    "for sex_idx in [1, 0]:\n",
    "    for age_idx in [0, 1, 2]:\n",
    "        for edu_attainment in range(5):\n",
    "            prob = joint_probs[edu_attainment, age_idx, sex_idx]\n",
    "            lines.append(f\"{code},{np.round(prob, 5)}\\n\")\n",
    "        code += 1\n",
    "        \n",
    "lines[-1] = lines[-1].strip()\n",
    "\n",
    "with open(\"data/education_probs.csv\", \"w\") as f:\n",
    "    f.writelines(lines)"
   ]
  },
  {
   "cell_type": "markdown",
   "id": "6d8b7991-e1c2-4d73-bb6d-7f5c8a52120e",
   "metadata": {},
   "source": [
    "# Run the retirement model and analyze the results"
   ]
  },
  {
   "cell_type": "code",
   "execution_count": null,
   "id": "30a7a78c-4645-4164-8683-a3e9902364af",
   "metadata": {
    "tags": []
   },
   "outputs": [],
   "source": [
    "retirement_config = ModelConfig(synth_pop=SynthPop(\"US_2010.v5\", \n",
    "                                                   locations=[\"Lenoir_County_NC\"]),\n",
    "                               start_date='2011-01-01',\n",
    "                               end_date='2031-12-31')\n",
    "\n",
    "results_dir = \"/home/epx/cl-results\"\n",
    "\n",
    "# Configure FRED job\n",
    "retirement_job = Job(\n",
    "    \"model/main.fred\",\n",
    "    config=[retirement_config],\n",
    "    key=\"retirement_savings_job1\",\n",
    "    results_dir=results_dir,\n",
    "    size=\"hot\",\n",
    "    # Select FRED version compatible with selected model\n",
    "    fred_version=\"11.0.1\"\n",
    ")\n",
    "\n"
   ]
  },
  {
   "cell_type": "code",
   "execution_count": null,
   "id": "291bbbbc-0bcd-4b1e-a8d4-525cc33d00df",
   "metadata": {
    "tags": []
   },
   "outputs": [],
   "source": [
    "\"\"\"\n",
    "Note, this model takes a few minutes to run.\n",
    "\"\"\"\n",
    "# Execute job\n",
    "retirement_job.execute()\n",
    "\n",
    "import time\n",
    "# the following loop idles while we wait for the simulation job to finish and periodically prints an update\n",
    "update_count = 0\n",
    "update_interval = 3\n",
    "start_time = time.time()\n",
    "timeout   = 300 # timeout in seconds\n",
    "idle_time = 20   # time to wait (in seconds) before checking status again\n",
    "while str(retirement_job.status) != 'DONE':\n",
    "    if str(retirement_job.status) == 'ERROR':\n",
    "        logs = retirement_job.status.logs\n",
    "        log_msg = \"; \".join(logs.loc[logs.level == \"ERROR\"].message.tolist())\n",
    "        print(f\"Job failed with the following error:\\n '{log_msg}'\")\n",
    "        break\n",
    "    if time.time() > start_time + timeout:\n",
    "        msg = f\"Job did not finish within {timeout / 60} minutes.\"\n",
    "        raise RuntimeError(msg)\n",
    "    \n",
    "    if update_count >= update_interval:\n",
    "        update_count = 0\n",
    "        print(f\"Job is still processing after {time.time() - start_time:.0f} seconds\")\n",
    "        \n",
    "    update_count += 1\n",
    "    \n",
    "    time.sleep(idle_time)\n",
    "\n",
    "print(f\"Job completed in {time.time() - start_time:.0f} seconds\")\n",
    "\n",
    "str(retirement_job.status)"
   ]
  },
  {
   "cell_type": "code",
   "execution_count": null,
   "id": "9aeccd6a-f883-46fd-8b48-d22cb49db65d",
   "metadata": {
    "tags": []
   },
   "outputs": [],
   "source": [
    "savings = retirement_job.results.csv_output(\"savings.csv\")\n",
    "\n",
    "race_map = {\n",
    "    -1 : 'Unspecified',\n",
    "     0 : 'Unknown',\n",
    "     1 : 'White',\n",
    "     2 : 'African American',\n",
    "     3 : 'American Indian',\n",
    "     4 : 'Alaska Native',\n",
    "     5 : 'Tribal',\n",
    "     6 : 'Asian',\n",
    "     7 : 'Hawaiian Native',\n",
    "     8 : 'Other Race',\n",
    "     9 : 'Multiple Race'\n",
    "}\n",
    "\n",
    "sex_map = {\n",
    "    0 : 'Female',\n",
    "    1 : 'Male',\n",
    "}\n",
    "\n",
    "savings_at_65 = savings.loc[savings[\"age\"] == 65]\n",
    "savings_at_70 = savings.loc[savings[\"age\"] == 70]\n",
    "savings_at_75 = savings.loc[savings[\"age\"] == 75]\n",
    "\n",
    "savings_at_65_by_sex  = savings_at_65[[\"sex\", \"savings\"]].groupby(\"sex\").agg([\"count\", \"sum\"]).droplevel(0, axis=1)\n",
    "savings_at_65_by_race = savings_at_65[[\"race\", \"savings\"]].groupby(\"race\").agg([\"count\", \"sum\"]).droplevel(0, axis=1)\n",
    "savings_at_70_by_sex  = savings_at_70[[\"sex\", \"savings\"]].groupby(\"sex\").agg([\"count\", \"sum\"]).droplevel(0, axis=1)\n",
    "savings_at_70_by_race = savings_at_70[[\"race\", \"savings\"]].groupby(\"race\").agg([\"count\", \"sum\"]).droplevel(0, axis=1)\n",
    "savings_at_75_by_sex  = savings_at_75[[\"sex\", \"savings\"]].groupby(\"sex\").agg([\"count\", \"sum\"]).droplevel(0, axis=1)\n",
    "savings_at_75_by_race = savings_at_75[[\"race\", \"savings\"]].groupby(\"race\").agg([\"count\", \"sum\"]).droplevel(0, axis=1)\n",
    "\n",
    "savings_at_65_by_sex[\"frac\"]  = savings_at_65_by_sex[\"count\"]  / savings_at_65_by_sex[\"count\"].sum()\n",
    "savings_at_65_by_race[\"frac\"] = savings_at_65_by_race[\"count\"] / savings_at_65_by_race[\"count\"].sum()\n",
    "savings_at_70_by_sex[\"frac\"]  = savings_at_70_by_sex[\"count\"]  / savings_at_70_by_sex[\"count\"].sum()\n",
    "savings_at_70_by_race[\"frac\"] = savings_at_70_by_race[\"count\"] / savings_at_70_by_race[\"count\"].sum()\n",
    "savings_at_75_by_sex[\"frac\"]  = savings_at_75_by_sex[\"count\"]  / savings_at_75_by_sex[\"count\"].sum()\n",
    "savings_at_75_by_race[\"frac\"] = savings_at_75_by_race[\"count\"] / savings_at_75_by_race[\"count\"].sum()\n",
    "\n",
    "savings_at_65_by_sex[\"savings_frac\"]  = savings_at_65_by_sex[\"sum\"]  / savings_at_65_by_sex[\"sum\"].sum()\n",
    "savings_at_65_by_race[\"savings_frac\"] = savings_at_65_by_race[\"sum\"] / savings_at_65_by_race[\"sum\"].sum()\n",
    "savings_at_70_by_sex[\"savings_frac\"]  = savings_at_70_by_sex[\"sum\"]  / savings_at_70_by_sex[\"sum\"].sum()\n",
    "savings_at_70_by_race[\"savings_frac\"] = savings_at_70_by_race[\"sum\"] / savings_at_70_by_race[\"sum\"].sum()\n",
    "savings_at_75_by_sex[\"savings_frac\"]  = savings_at_75_by_sex[\"sum\"]  / savings_at_75_by_sex[\"sum\"].sum()\n",
    "savings_at_75_by_race[\"savings_frac\"] = savings_at_75_by_race[\"sum\"] / savings_at_75_by_race[\"sum\"].sum()\n",
    "\n",
    "savings_at_65_by_sex[\"sex_text\"]   = savings_at_65_by_sex.index.map(sex_map)\n",
    "savings_at_65_by_race[\"race_text\"] = savings_at_65_by_race.index.map(race_map)\n",
    "savings_at_70_by_sex[\"sex_text\"]   = savings_at_70_by_sex.index.map(sex_map)\n",
    "savings_at_70_by_race[\"race_text\"] = savings_at_70_by_race.index.map(race_map)\n",
    "savings_at_75_by_sex[\"sex_text\"]   = savings_at_75_by_sex.index.map(sex_map)\n",
    "savings_at_75_by_race[\"race_text\"] = savings_at_75_by_race.index.map(race_map) "
   ]
  },
  {
   "cell_type": "code",
   "execution_count": null,
   "id": "9f152da6-d4a0-4bbc-a533-4f19e62d2a6b",
   "metadata": {
    "tags": []
   },
   "outputs": [],
   "source": [
    "fig = make_subplots(rows=1, cols=2, specs=[[{\"type\": \"pie\"}, {\"type\": \"pie\"}]])\n",
    "\n",
    "fig.add_trace(go.Pie(\n",
    "     values=savings_at_65_by_race[\"frac\"],\n",
    "     labels=savings_at_65_by_race[\"race_text\"],\n",
    "     name=\"Population Percentage by Race\"), \n",
    "     row=1, col=1)\n",
    "\n",
    "fig.add_trace(go.Pie(\n",
    "     values=savings_at_65_by_race[\"savings_frac\"],\n",
    "     labels=savings_at_65_by_race[\"race_text\"],\n",
    "     name=\"Wealth Percentage by Race\"),\n",
    "    row=1, col=2)\n",
    "\n",
    "fig.update_layout(\n",
    "    title=\"Comparing Population Percentage to Wealth-Owned Percentage at age 65\"\n",
    ")\n",
    "\n",
    "fig.show()"
   ]
  }
 ],
 "metadata": {
  "kernelspec": {
   "display_name": "Python 3 (ipykernel)",
   "language": "python",
   "name": "python3"
  },
  "language_info": {
   "codemirror_mode": {
    "name": "ipython",
    "version": 3
   },
   "file_extension": ".py",
   "mimetype": "text/x-python",
   "name": "python",
   "nbconvert_exporter": "python",
   "pygments_lexer": "ipython3",
   "version": "3.10.10"
  }
 },
 "nbformat": 4,
 "nbformat_minor": 5
}
