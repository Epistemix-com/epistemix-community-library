{
 "cells": [
  {
   "cell_type": "markdown",
   "id": "1b6cfb4d-945f-4af6-94ce-470e0e5730b5",
   "metadata": {},
   "source": [
    "# Import necessary packages"
   ]
  },
  {
   "cell_type": "code",
   "execution_count": null,
   "id": "7acca817-65d7-4a4b-87d4-b10ab0bbf656",
   "metadata": {
    "tags": []
   },
   "outputs": [],
   "source": [
    "from epx import Job, ModelConfig, SynthPop\n",
    "import time\n",
    "\n",
    "import pandas as pd\n",
    "import numpy as np\n",
    "\n",
    "import datetime as dt\n",
    "import os\n",
    "from pathlib import Path\n",
    "\n",
    "import matplotlib.pyplot as plt\n",
    "import matplotlib.patches as mpatches\n",
    "\n",
    "import plotly.express as px\n",
    "import plotly.io as pio\n",
    "import plotly.graph_objects as go\n",
    "import requests\n",
    "\n",
    "# Use the Epistemix default plotly template\n",
    "r = requests.get(\"https://gist.githubusercontent.com/daniel-epistemix/8009ad31ebfa96ac97b7be038c014c0d/raw/320c3b0ca3dfbf7946e49c97254fa65d4753aeac/epx_plotly_theme.json\")\n",
    "if r.status_code == 200:\n",
    "    pio.templates[\"epistemix\"] = go.layout.Template(r.json())\n",
    "    pio.templates.default = \"epistemix\"\n",
    "\n",
    "import folium\n",
    "from folium.plugins import TimestampedGeoJson\n",
    "from folium.plugins import DualMap\n",
    "\n",
    "os.environ[\"FRED_PROJECT\"] = str(Path.cwd())\n",
    "path_to_fred_project = os.environ[\"FRED_PROJECT\"]"
   ]
  },
  {
   "cell_type": "markdown",
   "id": "dd30e5c9-e07b-4041-9b6b-79f6f4de4fd6",
   "metadata": {},
   "source": [
    "# Run FRED model"
   ]
  },
  {
   "cell_type": "code",
   "execution_count": null,
   "id": "6197d105-ffa1-4093-a2b7-0968e1eef215",
   "metadata": {
    "tags": []
   },
   "outputs": [],
   "source": [
    "finding_local_doctor_config = ModelConfig(\n",
    "             synth_pop=SynthPop(\"US_2010.v5\", [\"Kewaunee_County_WI\"]),\n",
    "             start_date=\"2020-01-01\",\n",
    "             end_date=\"2020-02-01\",\n",
    "         )\n",
    "\n",
    "finding_local_doctor_job = Job(\n",
    "    \"model/main.fred\",\n",
    "    config=[finding_local_doctor_config],\n",
    "    key=\"cl_finding_local_doctor_job\",\n",
    "    fred_version=\"11.0.1\",\n",
    "    results_dir=\"/home/epx/cl-results\"\n",
    ")\n",
    "\n",
    "\n",
    "finding_local_doctor_job.execute()\n",
    "\n",
    "# the following loop idles while we wait for the simulation job to finish and periodically prints an update\n",
    "update_count = 0\n",
    "update_interval = 3\n",
    "start_time = time.time()\n",
    "timeout   = 300 # timeout in seconds\n",
    "idle_time = 20   # time to wait (in seconds) before checking status again\n",
    "while str(finding_local_doctor_job.status) != 'DONE':\n",
    "    if str(finding_local_doctor_job.status) == 'ERROR':\n",
    "        logs = finding_local_doctor_job.status.logs\n",
    "        log_msg = \"; \".join(logs.loc[logs.level == \"ERROR\"].message.tolist())\n",
    "        print(f\"Job failed with the following error:\\n '{log_msg}'\")\n",
    "        break\n",
    "    if time.time() > start_time + timeout:\n",
    "        msg = f\"Job did not finish within {timeout / 60} minutes.\"\n",
    "        raise RuntimeError(msg)\n",
    "    \n",
    "    if update_count >= update_interval:\n",
    "        update_count = 0\n",
    "        print(f\"Job is still processing after {time.time() - start_time:.0f} seconds\")\n",
    "        \n",
    "    update_count += 1\n",
    "    \n",
    "    time.sleep(idle_time)\n",
    "\n",
    "print(f\"Job completed in {time.time() - start_time:.0f} seconds\")\n",
    "\n",
    "str(finding_local_doctor_job.status)"
   ]
  },
  {
   "cell_type": "markdown",
   "id": "5e8d0d6e-1496-4ac0-9600-3712318a5f8b",
   "metadata": {},
   "source": [
    "# Model introduction\n",
    "\n",
    "The Dr Office modernisation efficiency model is a FRED demonstration model exploring the effect of modernisation of healthcare services on healthcare outcomes. At the individual level the model tracks personal health changes over time. Ideally, when patients become sick they try to access their local GP to resolve moderate health issues. For severe cases patients instead access the ED. \n",
    "\n",
    "A failure in the market can occur due to constraints in the system. An individual may ony visit their local GP and must 'queue' for an appointment on the day of their illness with all other individuals who need access to a Dr appointment that day. The number of avialable appointments on any given day is dictated by the 'modernity' of the office; whether the office can offer online, phone or only in-person apppointments. The more 'modern' the office, the greater the number of available appointments due to efficiency savings in online consulations. \n",
    "\n",
    "#### Individual actions:\n",
    "\n",
    "Whilst a Dr Office may offer a range of appointments, individuals make their own choices based on their preferences. Person A may be happy to take any appointment they can get whilst Person B may only accept an in-person appointment. So what happens when Person B cannot access the in-person appointment they require? They get impatient. \n",
    "\n",
    "The threshold for impatience increases when a person's health is worse. For example, a person with health status 'mild' will attempt to book an appointment at their local Dr Office more days in a row before becoming impatient that someone with health status 'moderate'.\n",
    "\n",
    "#### Population level outcomes:\n",
    "\n",
    "When a person becomes impatient, they take accessing healthcare into their own hands and visit ED! The interplay between individual choices and Dr Office logistics lead to a global outcome of more (or less) incorrect visits to the ED affecting global waiting times for severe cases.\n",
    "\n",
    "#### Some key model assumptions:\n",
    "\n",
    "* Households only try to access appointments at their nearest Dr Office\n",
    "* Households only try to access one appointment choice at the start of the day and do not rejoin the queue \n",
    "* The young and the elderly are more likely to be more severely ill\n"
   ]
  },
  {
   "cell_type": "markdown",
   "id": "71ad43f2-3b49-4804-9f39-1dd50d1e68ba",
   "metadata": {
    "tags": []
   },
   "source": [
    "# Dr Office & Household locations\n",
    "\n",
    "We can visualise the locations of Dr Offices in Kewaunee County, Wisconsin (colored rings) and the household locations of potential patients (white dots). "
   ]
  },
  {
   "cell_type": "code",
   "execution_count": null,
   "id": "714f9e1a-6636-4849-a6c7-5437e933db57",
   "metadata": {
    "tags": []
   },
   "outputs": [],
   "source": [
    "agent_dr_assignment = finding_local_doctor_job.results.csv_output(\"local_dr_office_assignment.csv\")\n",
    "agent_dr_assignment_wo_null_households = agent_dr_assignment[agent_dr_assignment.HH_LAT != -999]\n",
    "# downsample household data for plotting\n",
    "agent_dr_assignment_wo_null_households = agent_dr_assignment_wo_null_households[agent_dr_assignment_wo_null_households.HH_LON != -999][::10]\n",
    "\n",
    "print(\"check; \", len(agent_dr_assignment_wo_null_households))\n",
    "dr_office_data = pd.read_csv(f\"{path_to_fred_project}/data/place_data_doctors.txt\", sep=\",\")\n",
    "dr_office_data.columns = [\"ID\", \"LAT\", \"LON\", \"ELEV\"]\n",
    "dr_office_data.head()\n",
    "\n",
    "# Define colour map for \n",
    "color_map = {\n",
    "900000001:'#F0438D',\n",
    "900000002:'#2BD6AF',\n",
    "900000003:'#F9B72D'}\n",
    "\n",
    "\n",
    "lat_cen = dr_office_data['LAT'].median()\n",
    "long_cen = dr_office_data['LON'].median()\n",
    "\n",
    "# Create interactive map with default basemap\n",
    "map_osm = folium.Map(location=[lat_cen, long_cen],\n",
    "                     tiles='https://api.mapbox.com/styles/v1/epxadmin/cm0ve9m13000501nq8q1zdf5p/tiles/{z}/{x}/{y}?access_token=pk.eyJ1IjoiZXB4YWRtaW4iLCJhIjoiY20wcmV1azZ6MDhvcTJwcTY2YXpscWsxMSJ9._ROunfMS6hgVh1LPQZ4NGg',\n",
    "                     attr='Mapbox',zoom_start = 12)\n",
    "\n",
    "# place a ring at the location of the Dr Office and colour code using the color_map\n",
    "for i, place_info in dr_office_data.iterrows():\n",
    "    folium.Circle(radius=150,location=[place_info['LAT'], place_info['LON']], color=color_map[place_info['ID']]).add_to(map_osm)\n",
    "\n",
    "# place a dot at the location of the agent households\n",
    "for i, place_info in agent_dr_assignment_wo_null_households.iterrows():\n",
    "    #if pd.notna(dr_office_data['LAT']):\n",
    "    folium.Circle(radius=0.5,location=[place_info['HH_LAT'], place_info['HH_LON']], fill=True, color=\"#F9F6EE\").add_to(map_osm)       \n",
    "        \n",
    "# display the map\n",
    "map_osm"
   ]
  },
  {
   "cell_type": "markdown",
   "id": "83bc8d0d-a95a-4c9a-a638-fd3d23e10e66",
   "metadata": {
    "tags": []
   },
   "source": [
    "# Assigning Dr Office locations\n",
    "\n",
    "Local Dr. assignments are made based on the absolute distance between the individual's household location and the Dr Office. We can visualise on our map which households were allocated to which Dr Office."
   ]
  },
  {
   "cell_type": "code",
   "execution_count": null,
   "id": "0647c465-341a-42c7-8fba-5668912edd55",
   "metadata": {
    "tags": []
   },
   "outputs": [],
   "source": [
    "dr_office_data = pd.read_csv(f\"{path_to_fred_project}/data/place_data_doctors.txt\", sep=\",\")\n",
    "dr_office_data.columns = [\"ID\", \"LAT\", \"LON\", \"ELEV\"]\n",
    "dr_office_data.head()\n",
    "\n",
    "# Define colour map for \n",
    "color_map = {\n",
    "900000001:'#F0438D',\n",
    "900000002:'#2BD6AF',\n",
    "900000003:'#F9B72D'}\n",
    "\n",
    "\n",
    "lat_cen = dr_office_data['LAT'].median()\n",
    "long_cen = dr_office_data['LON'].median()\n",
    "\n",
    "# Create interactive map with default basemap\n",
    "map_osm = folium.Map(location=[lat_cen, long_cen],\n",
    "                     tiles='https://api.mapbox.com/styles/v1/epxadmin/cm0ve9m13000501nq8q1zdf5p/tiles/{z}/{x}/{y}?access_token=pk.eyJ1IjoiZXB4YWRtaW4iLCJhIjoiY20wcmV1azZ6MDhvcTJwcTY2YXpscWsxMSJ9._ROunfMS6hgVh1LPQZ4NGg',\n",
    "                     attr='Mapbox',zoom_start = 11)\n",
    "\n",
    "# place a ring at the location of the Dr Office and colour code using the color_map\n",
    "for i, place_info in dr_office_data.iterrows():\n",
    "    folium.Circle(radius=150,location=[place_info['LAT'], place_info['LON']], color=color_map[place_info['ID']]).add_to(map_osm)\n",
    "\n",
    "# place a dot at the location of the agent households\n",
    "for i, place_info in agent_dr_assignment_wo_null_households.iterrows():\n",
    "    #if pd.notna(dr_office_data['LAT']):\n",
    "    folium.Circle(radius=0.5,location=[place_info['HH_LAT'], place_info['HH_LON']], fill=True, color=color_map[place_info['OFFICE_ID']]).add_to(map_osm)       \n",
    "        \n",
    "# display the map\n",
    "map_osm"
   ]
  },
  {
   "cell_type": "markdown",
   "id": "26e00047-1397-4fe5-981d-34b6892307d9",
   "metadata": {},
   "source": [
    "# Individual access to healthcare\n",
    "\n",
    "We can track individual health journeys over time and visualise these tracks. Below is a sample of 3 agent IDs - agent 227476979, agent 158002185 and agent 164118044. "
   ]
  },
  {
   "cell_type": "code",
   "execution_count": null,
   "id": "12614e19-1a37-4736-bffe-dfc76e22358f",
   "metadata": {
    "tags": []
   },
   "outputs": [],
   "source": [
    "agent_health = finding_local_doctor_job.results.csv_output(\"agent_health_tracks.csv\")\n",
    "agent_health.head()\n",
    "\n",
    "labels=[\"healthy\",\"mild\",\"moderate\",\"serious\",\"severe\"]\n",
    "fig1, ax1 = plt.subplots(figsize=(10, 8))\n",
    "\n",
    "selected_agent_ids = [227476979, 158002185, 164118044] \n",
    "cols = ['#25BEF4', '#96D656', '#A76FF4']       \n",
    "                \n",
    "for idx, agent_id in enumerate(selected_agent_ids):\n",
    "    individual_health_df = agent_health.loc[agent_health['AGENT_ID'] == agent_id]\n",
    "    x_date_trans = [dt.datetime.strptime(str(d),'%Y%m%d').date() for d in individual_health_df['DATE']]\n",
    "    y = individual_health_df['HEALTH']\n",
    "    x = x_date_trans\n",
    "    ax1.plot(x, y, ls='--', c= cols[idx]) \n",
    "    ax1.scatter(x, y, label=agent_id, c= cols[idx]) \n",
    "plt.xticks(rotation = 45)    \n",
    "ax1.set_yticks(np.arange(0,5))\n",
    "ax1.set_yticklabels(labels)\n",
    "plt.legend()\n",
    "plt.show()"
   ]
  },
  {
   "cell_type": "markdown",
   "id": "dec88046-a346-4fae-acf7-4b97330ed29c",
   "metadata": {},
   "source": [
    "# Effect on global outcomes\n",
    "\n",
    "We can visualise the number of patients visiting the ED over the course of the simulation. As a scenario planner, we would like to minimise the number of non-emergencies visiting the ED department so that resource for treating severe illness is optimised. What changes would you make to the model to track this?"
   ]
  },
  {
   "cell_type": "code",
   "execution_count": null,
   "id": "409417fe-9ecb-4258-9667-6885f3afaf6f",
   "metadata": {
    "tags": []
   },
   "outputs": [],
   "source": [
    "agent_at_ed = finding_local_doctor_job.results.csv_output(\"agent_at_ED.csv\")\n",
    "agent_at_ed.head()\n",
    "\n",
    "labels=[\"healthy\",\"mild\",\"moderate\",\"serious\",\"severe\"]\n",
    "\n",
    "agent_count_health_at_ED = agent_at_ed.groupby(['HEALTH']).count().drop(columns=[\"DATE\", \"IMPATIENCE\", \"BOOKING_ATTEMPTS\"]).reset_index(\"HEALTH\")\n",
    "agent_count_health_at_ED = agent_at_ed.drop(columns=[\"DATE\", \"IMPATIENCE\", \"BOOKING_ATTEMPTS\"])\n",
    "\n",
    "fig1, ax1 = plt.subplots(figsize=(10, 8))\n",
    "\n",
    "emergency_patch = mpatches.Patch(color='#F0438D', label='Emergency')\n",
    "non_emergency_patch = mpatches.Patch(color='#2BD6AF', label='Non-emergency')\n",
    "\n",
    "bins=np.arange(-0.5, 4.5 + 1, 1)\n",
    "counts, edges, bars = plt.hist(agent_count_health_at_ED[['HEALTH']],color='#2BD6AF', alpha=1, bins=bins, edgecolor='black')\n",
    "ax1 = plt.gca()\n",
    "# recolor the emergency bar\n",
    "bars[-1].set_color('#F0438D')\n",
    "bars[-1].set_edgecolor('black')\n",
    "\n",
    "ax1.legend(handles=[emergency_patch, non_emergency_patch])\n",
    "ax1.set_title(\"Agents arriving at ED for treatment\",fontsize=14)\n",
    "ax1.set_xticks(np.arange(0,5))\n",
    "ax1.set_xticklabels(labels)\n",
    "ax1.set_xlabel(\"Health\")\n",
    "ax1.set_ylabel(\"Count\")\n",
    "plt.show()\n",
    "\n"
   ]
  },
  {
   "cell_type": "code",
   "execution_count": null,
   "id": "fde2c551-9280-48f8-b61c-55a393c641f1",
   "metadata": {
    "tags": []
   },
   "outputs": [],
   "source": [
    "finding_local_doctor_job.delete(interactive=False)"
   ]
  }
 ],
 "metadata": {
  "kernelspec": {
   "display_name": "Python 3 (ipykernel)",
   "language": "python",
   "name": "python3"
  },
  "language_info": {
   "codemirror_mode": {
    "name": "ipython",
    "version": 3
   },
   "file_extension": ".py",
   "mimetype": "text/x-python",
   "name": "python",
   "nbconvert_exporter": "python",
   "pygments_lexer": "ipython3",
   "version": "3.10.10"
  }
 },
 "nbformat": 4,
 "nbformat_minor": 5
}
