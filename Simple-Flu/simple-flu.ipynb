{
 "cells": [
  {
   "cell_type": "markdown",
   "id": "469a5022-54f0-442f-9a05-f00b182e0471",
   "metadata": {},
   "source": [
    "### To run this model yourself: go to Run -> Run All Cells in the top left menu bar."
   ]
  },
  {
   "cell_type": "code",
   "execution_count": null,
   "id": "7d7391ce-1d56-4458-9ddc-64cab22fa32b",
   "metadata": {
    "tags": []
   },
   "outputs": [],
   "source": [
    "from epx import Job, ModelConfig, SynthPop\n",
    "\n",
    "import plotly.express as px\n",
    "import plotly.graph_objects as go\n",
    "\n",
    "import plot_mitigations\n",
    "import time"
   ]
  },
  {
   "cell_type": "markdown",
   "id": "3519f164-94ab-473c-8505-0c0697056acc",
   "metadata": {},
   "source": [
    "# Exploring the Utility of Mitigation Strategies for Respiratory Disease\n",
    "\n",
    "### In this notebook, we will model the spread of an influenza through Kewaunee County, WI.\n",
    "\n",
    "Our influenza model uses an SEIR structure. If you'd like to learn more about disease transmission in FRED, check out Lesson 7 in the Quickstart Guide.\n",
    "\n",
    "For now, here's a brief overview of the model:\n",
    "- We begin with 10 agents randomly exposed to the disease. \n",
    "- Exposed agents become Infectious after an average of two days, and they can either be Symptomatic (66%) or Asymptomatic (33%). \n",
    "- Agents remain infectious for an average of 5 days, during which they can transmit the disease to other susceptible agents that they come into contact with. \n",
    "After the infectious period, they recover and are no longer susceptible to reinfection."
   ]
  },
  {
   "cell_type": "code",
   "execution_count": null,
   "id": "f8268ff7-3c74-46d7-9af6-55141a95f16d",
   "metadata": {
    "tags": []
   },
   "outputs": [],
   "source": [
    "flu_config = ModelConfig(\n",
    "    synth_pop=SynthPop(\"US_2010.v5\", [\"Kewaunee_County_WI\"]),\n",
    "    start_date=\"2023-01-01\",\n",
    "    end_date=\"2023-07-01\",\n",
    ")\n",
    "\n",
    "flu_job = Job(\n",
    "    \"model/main.fred\",\n",
    "    config=[flu_config],\n",
    "    key=\"cl_flu_job\",\n",
    "    fred_version=\"11.0.1\",\n",
    "    results_dir=\"/home/epx/cl-results\"\n",
    ")\n",
    "\n",
    "flu_job.execute()\n",
    "\n",
    "# the following loop idles while we wait for the simulation job to finish and periodically prints an update\n",
    "update_count = 0\n",
    "update_interval = 3\n",
    "start_time = time.time()\n",
    "timeout   = 300 # timeout in seconds\n",
    "idle_time = 20   # time to wait (in seconds) before checking status again\n",
    "while str(flu_job.status) != 'DONE':\n",
    "    if str(flu_job.status) == 'ERROR':\n",
    "        logs = flu_job.status.logs\n",
    "        log_msg = \"; \".join(logs.loc[logs.level == \"ERROR\"].message.tolist())\n",
    "        print(f\"Job failed with the following error:\\n '{log_msg}'\")\n",
    "        break\n",
    "    if time.time() > start_time + timeout:\n",
    "        msg = f\"Job did not finish within {timeout / 60} minutes.\"\n",
    "        raise RuntimeError(msg)\n",
    "    \n",
    "    if update_count >= update_interval:\n",
    "        update_count = 0\n",
    "        print(f\"Job is still processing after {time.time() - start_time:.0f} seconds\")\n",
    "        \n",
    "    update_count += 1\n",
    "    \n",
    "    time.sleep(idle_time)\n",
    "\n",
    "print(f\"Job completed in {time.time() - start_time:.0f} seconds\")\n",
    "\n",
    "str(flu_job.status)"
   ]
  },
  {
   "cell_type": "markdown",
   "id": "4bd8fe74-db18-47d2-88ef-1a273976079d",
   "metadata": {
    "tags": []
   },
   "source": [
    "## Exploring the Model Output"
   ]
  },
  {
   "cell_type": "code",
   "execution_count": null,
   "id": "ca2d0eaf-8665-48e2-aa26-9d05ed88c4fc",
   "metadata": {
    "tags": []
   },
   "outputs": [],
   "source": [
    "baseline_states = plot_mitigations.get_states(flu_job)\n",
    "baseline_exposures = plot_mitigations.get_explocs(flu_job)\n",
    "baseline_locations = plot_mitigations.get_expmap_data(flu_job)"
   ]
  },
  {
   "cell_type": "code",
   "execution_count": null,
   "id": "9b9366ac-c898-4c22-8d09-f845a7628068",
   "metadata": {
    "tags": []
   },
   "outputs": [],
   "source": [
    "fig = go.Figure()\n",
    "\n",
    "for x in [\"Exposed\", \"InfectiousA\", \"InfectiousS\", \"Recovered\"]:\n",
    "    fig.add_trace(\n",
    "        go.Scatter(\n",
    "            x=baseline_states[\"sim_date\"],\n",
    "            y=baseline_states[x],\n",
    "            mode=\"lines\",\n",
    "            line=go.scatter.Line(width=3),\n",
    "            showlegend=True,\n",
    "            name=x,\n",
    "        )\n",
    "    )\n",
    "\n",
    "fig.update_layout(\n",
    "    font_family=\"Epistemix Label\",\n",
    "    yaxis_title=\"New infections per day\",\n",
    "    xaxis_title=\"Date\",\n",
    "    legend_title=\"State\",\n",
    "    xaxis_range=[\"2023-01-01\", \"2023-04-01\"],\n",
    "    hovermode=\"x\",\n",
    "    height=450,\n",
    ")\n",
    "\n",
    "fig.show()"
   ]
  },
  {
   "cell_type": "markdown",
   "id": "aa6c2283-625b-406b-a7ee-82d08554aeec",
   "metadata": {},
   "source": [
    "Our influenza model tracks how many agents are newly exposed, infectious, or recovered each day. In the figure above, we can see that it takes about two weeks from the initial seeding of exposures at the beginning of the simulation for community spread to increase substantially, and that the disease has run its course after about 10 weeks."
   ]
  },
  {
   "cell_type": "markdown",
   "id": "8865acbb-8fa2-4d85-ba7c-96ccb410bce4",
   "metadata": {},
   "source": [
    "Below we plot an animation of infections colored by the type of location at which the exposure occurred (Household, Workplace, etc)  for the duration of the simulation."
   ]
  },
  {
   "cell_type": "code",
   "execution_count": null,
   "id": "388e1a3d-45e8-404f-af1b-b23b980621a4",
   "metadata": {
    "tags": []
   },
   "outputs": [],
   "source": [
    "plot_mitigations.plot_animation_by_exposure_location(baseline_exposures)"
   ]
  },
  {
   "cell_type": "markdown",
   "id": "cb55013d-cb2b-4e6e-98cd-fb56945fea13",
   "metadata": {},
   "source": [
    "Here we show the same data as in the above animation, but summarized into an interactive map with the size of the circles representing households, workplaces, and schools scaled proportionally to the number of agent-to-agent transmission events that took place in those locations throughout the simulation. This helps us visually locate places that experienced unusually high numbers of infections."
   ]
  },
  {
   "cell_type": "code",
   "execution_count": null,
   "id": "e2ac4c3e-05eb-483e-aace-9cbfe5f287ab",
   "metadata": {
    "tags": []
   },
   "outputs": [],
   "source": [
    "fig = px.scatter_mapbox(\n",
    "    baseline_locations,\n",
    "    lat=\"my_exp_lat\",\n",
    "    lon=\"my_exp_lon\",\n",
    "    color=\"ExposureLocation\",\n",
    "    color_discrete_sequence=[\"#F0438D\", \"#2BD6AF\", \"#A76FF4\"],\n",
    "    opacity=0.8,\n",
    "    size=\"exp_scale\",\n",
    "    size_max=12,\n",
    "    zoom=9.25,\n",
    "    height=600,\n",
    "    hover_data={\"exp_scale\": False, \"NumberExposed\": True},\n",
    ")\n",
    "\n",
    "fig.update_layout(\n",
    "    mapbox_style=plot_mitigations.MAPSTYLE, mapbox_accesstoken=plot_mitigations.TOKEN\n",
    ")\n",
    "fig.update_layout(margin={\"r\": 0, \"t\": 60, \"l\": 0, \"b\": 0})\n",
    "fig.update_layout(\n",
    "    title=\"Sites of Influenza Exposure\",\n",
    "    title_font_size=24,\n",
    ")\n",
    "fig.update_layout(legend_title_text=\"Exposure location type\")\n",
    "fig.show()"
   ]
  },
  {
   "cell_type": "markdown",
   "id": "e17feec8-8ecb-4763-abb6-af6e457c3a49",
   "metadata": {},
   "source": [
    "Here we show another animated map of the same simulation data, this time color-coded by the demographic attributes of the agents that were infected."
   ]
  },
  {
   "cell_type": "code",
   "execution_count": null,
   "id": "04e87571-c052-41b3-8659-5795233d40e9",
   "metadata": {
    "tags": []
   },
   "outputs": [],
   "source": [
    "plot_mitigations.plot_animation_by_demog_group(baseline_exposures)"
   ]
  },
  {
   "cell_type": "markdown",
   "id": "72ab80de-4204-4d77-94a0-fb273945c6d1",
   "metadata": {},
   "source": [
    "The corresponding time series of infections for the above animation is shown below."
   ]
  },
  {
   "cell_type": "code",
   "execution_count": null,
   "id": "5d3414e4-c25a-480b-ba05-4f974941850f",
   "metadata": {
    "tags": []
   },
   "outputs": [],
   "source": [
    "plot_mitigations.plot_time_series_by_demog_group(baseline_exposures)"
   ]
  },
  {
   "cell_type": "code",
   "execution_count": null,
   "id": "1e5a9996-e0d5-4da0-8bde-7a43e1467f61",
   "metadata": {
    "tags": []
   },
   "outputs": [],
   "source": [
    "# deleting our job now that we are done with it\n",
    "flu_job.delete(interactive=False)"
   ]
  },
  {
   "cell_type": "markdown",
   "id": "af3fc86e-e188-49be-8ebe-d3b740211b49",
   "metadata": {},
   "source": [
    "FRED is a poweful tool not just for understanding disease spread in the aggregate but also for exploring the individual behaviors that are contributing factors. As part of our baseline model, agents recorded where they were exposed to the respiratory disease."
   ]
  }
 ],
 "metadata": {
  "kernelspec": {
   "display_name": "Python 3 (ipykernel)",
   "language": "python",
   "name": "python3"
  },
  "language_info": {
   "codemirror_mode": {
    "name": "ipython",
    "version": 3
   },
   "file_extension": ".py",
   "mimetype": "text/x-python",
   "name": "python",
   "nbconvert_exporter": "python",
   "pygments_lexer": "ipython3",
   "version": "3.10.10"
  }
 },
 "nbformat": 4,
 "nbformat_minor": 5
}
