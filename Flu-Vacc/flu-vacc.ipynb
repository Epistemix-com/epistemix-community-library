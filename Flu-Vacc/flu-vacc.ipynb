{
 "cells": [
  {
   "cell_type": "code",
   "execution_count": null,
   "id": "9be23621-b4a2-4f3b-aa58-89aed43d8a18",
   "metadata": {
    "tags": []
   },
   "outputs": [],
   "source": [
    "from epx import Job, ModelConfig, SynthPop\n",
    "\n",
    "import time\n",
    "\n",
    "import plot_output as plot"
   ]
  },
  {
   "cell_type": "markdown",
   "id": "5e9421a2-8a8a-4bbe-865a-8e3a76f28e8c",
   "metadata": {},
   "source": [
    "# Running the Model"
   ]
  },
  {
   "cell_type": "code",
   "execution_count": null,
   "id": "31bcfa5a-d29e-401b-94f9-2dd54cc6888b",
   "metadata": {
    "tags": []
   },
   "outputs": [],
   "source": [
    "flu_vacc_config = ModelConfig(\n",
    "        synth_pop=SynthPop(\"US_2010.v5\", [\"Lassen_County_CA\"]),\n",
    "        start_date=\"2022-01-01\",\n",
    "        end_date=\"2031-12-30\",\n",
    "        seed=74708\n",
    "    )\n",
    "\n",
    "flu_vacc_job = Job(\n",
    "    program=\"model/flu_vacc.fred\",\n",
    "    config=[flu_vacc_config],\n",
    "    key=\"flu-vacc\",\n",
    "    fred_version=\"12.0.0\",\n",
    "    results_dir=\"/home/epx/cl-results\"\n",
    ")"
   ]
  },
  {
   "cell_type": "code",
   "execution_count": null,
   "id": "f8268ff7-3c74-46d7-9af6-55141a95f16d",
   "metadata": {
    "tags": []
   },
   "outputs": [],
   "source": [
    "flu_vacc_job.execute()\n",
    "\n",
    "# the following loop idles while we wait for the simulation job to finish and periodically prints an update\n",
    "update_count = 0\n",
    "update_interval = 3\n",
    "start_time = time.time()\n",
    "timeout   = 300 # timeout in seconds\n",
    "idle_time = 20   # time to wait (in seconds) before checking status again\n",
    "while str(flu_vacc_job.status) != 'DONE':\n",
    "    if str(flu_vacc_job.status) == 'ERROR':\n",
    "        logs = flu_vacc_job.status.logs\n",
    "        log_msg = \"; \".join(logs.loc[logs.level == \"ERROR\"].message.tolist())\n",
    "        print(f\"Job failed with the following error:\\n '{log_msg}'\")\n",
    "        break\n",
    "    if time.time() > start_time + timeout:\n",
    "        msg = f\"Job did not finish within {timeout / 60} minutes.\"\n",
    "        raise RuntimeError(msg)\n",
    "    \n",
    "    if update_count >= update_interval:\n",
    "        update_count = 0\n",
    "        print(f\"Job is still processing after {time.time() - start_time:.0f} seconds\")\n",
    "        \n",
    "    update_count += 1\n",
    "    \n",
    "    time.sleep(idle_time)\n",
    "\n",
    "print(f\"Job completed in {time.time() - start_time:.0f} seconds\")\n",
    "\n",
    "str(flu_vacc_job.status)"
   ]
  },
  {
   "cell_type": "markdown",
   "id": "4bd8fe74-db18-47d2-88ef-1a273976079d",
   "metadata": {},
   "source": [
    "# Exploring the Model Output\n",
    "\n",
    "## Seasonal Epi-Curves"
   ]
  },
  {
   "cell_type": "code",
   "execution_count": null,
   "id": "cf657ff9-3452-403d-a52a-0133a2f5e5ce",
   "metadata": {
    "tags": []
   },
   "outputs": [],
   "source": [
    "epi_curves = plot.get_epi_curves(job)\n",
    "epi_curves.show()"
   ]
  },
  {
   "cell_type": "markdown",
   "id": "ef3195c9-8d9c-4866-a9fc-e5b2a8d9fe1d",
   "metadata": {},
   "source": [
    "## Yearly Health/Immunity Status Animation "
   ]
  },
  {
   "cell_type": "code",
   "execution_count": null,
   "id": "3fc47838-1119-43d4-b6bb-1e2bf4c1929d",
   "metadata": {
    "tags": []
   },
   "outputs": [],
   "source": [
    "animation = plot.get_household_animation(job)\n",
    "animation.show()"
   ]
  },
  {
   "cell_type": "markdown",
   "id": "03522b36-04ec-4b24-b1e0-acd65d068f7d",
   "metadata": {},
   "source": [
    "# Deleting the Job"
   ]
  },
  {
   "cell_type": "code",
   "execution_count": null,
   "id": "4762837b-f254-48ca-9251-a793fef17e89",
   "metadata": {
    "tags": []
   },
   "outputs": [],
   "source": [
    "job.delete(interactive=False)"
   ]
  }
 ],
 "metadata": {
  "kernelspec": {
   "display_name": "Python 3 (ipykernel)",
   "language": "python",
   "name": "python3"
  },
  "language_info": {
   "codemirror_mode": {
    "name": "ipython",
    "version": 3
   },
   "file_extension": ".py",
   "mimetype": "text/x-python",
   "name": "python",
   "nbconvert_exporter": "python",
   "pygments_lexer": "ipython3",
   "version": "3.10.10"
  }
 },
 "nbformat": 4,
 "nbformat_minor": 5
}
