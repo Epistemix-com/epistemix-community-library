{
 "cells": [
  {
   "cell_type": "code",
   "execution_count": null,
   "id": "56ce4c2e-8309-44c0-890c-ad05b72d171a",
   "metadata": {
    "tags": []
   },
   "outputs": [],
   "source": [
    "from epx import Job, ModelConfig, SynthPop\n",
    "import time\n",
    "import pandas as pd\n",
    "\n",
    "import os\n",
    "from pathlib import Path\n",
    "os.environ[\"FRED_PROJECT\"] = str(Path.cwd())"
   ]
  },
  {
   "cell_type": "markdown",
   "id": "4bc72440-6d14-49bc-ac2b-378b84f93e5f",
   "metadata": {
    "tags": []
   },
   "source": [
    "# Ground logistics model\n",
    "\n",
    "This model represents a ground transportation network. Cities represent nodes in the network and roads are edges. A table of trucks agents is read in at the beginning of the simulation. There are no human agents in the model. \n",
    "\n",
    "## Model components\n",
    "\n",
    "- `city_locations.fred`: contains the GENERATE\\_LOCATIONS condition that creates a network of cities\n",
    "- `trucks.fred`: contains the GENERATE\\_TRUCKS condition that reads the trucks agent file and the MOVE\\_TRUCKS condition that picks next locations for trucks to travel to\n",
    "- `travel_disruption.fred`: contains the DISRUPTION condition that creates travel disruptions at certain nodes as defined by an end user"
   ]
  },
  {
   "cell_type": "code",
   "execution_count": null,
   "id": "bc534698-3864-4846-8546-6df80b24a680",
   "metadata": {
    "tags": []
   },
   "outputs": [],
   "source": [
    "ground_shipping_logistics_config = ModelConfig(\n",
    "             synth_pop=SynthPop(\"US_2010.v5\", [\"None\"]),\n",
    "             start_date=\"2020-01-01\",\n",
    "             end_date=\"2020-02-01\",\n",
    "         )\n",
    "\n",
    "ground_shipping_logistics_job = Job(\n",
    "    \"model/main.fred\",\n",
    "    config=[ground_shipping_logistics_config],\n",
    "    key=\"cl_ground_shipping_logistics\",\n",
    "    fred_version=\"11.0.1\",\n",
    "    results_dir=\"/home/epx/cl-results\",\n",
    "    size=\"hot\"\n",
    ")\n",
    "\n",
    "\n",
    "ground_shipping_logistics_job.execute()\n",
    "\n",
    "\n",
    "# the following loop idles while we wait for the simulation job to finish and periodically prints an update\n",
    "update_count = 0\n",
    "update_interval = 3\n",
    "start_time = time.time()\n",
    "timeout   = 300 # timeout in seconds\n",
    "idle_time = 20   # time to wait (in seconds) before checking status again\n",
    "while str(ground_shipping_logistics_job.status) != 'DONE':\n",
    "    if str(ground_shipping_logistics_job.status) == 'ERROR':\n",
    "        logs = ground_shipping_logistics_job.status.logs\n",
    "        log_msg = \"; \".join(logs.loc[logs.level == \"ERROR\"].message.tolist())\n",
    "        print(f\"Job failed with the following error:\\n '{log_msg}'\")\n",
    "        break\n",
    "    if time.time() > start_time + timeout:\n",
    "        msg = f\"Job did not finish within {timeout / 60} minutes.\"\n",
    "        raise RuntimeError(msg)\n",
    "    \n",
    "    if update_count >= update_interval:\n",
    "        update_count = 0\n",
    "        print(f\"Job is still processing after {time.time() - start_time:.0f} seconds\")\n",
    "        \n",
    "    update_count += 1\n",
    "    \n",
    "    time.sleep(idle_time)\n",
    "\n",
    "print(f\"Job completed in {time.time() - start_time:.0f} seconds\")\n",
    "\n",
    "str(ground_shipping_logistics_job.status)"
   ]
  },
  {
   "cell_type": "markdown",
   "id": "141937cf-4b0d-4c58-9ee4-068b11321d83",
   "metadata": {},
   "source": [
    "## Data outputs\n",
    "\n",
    "Let's take a look at the output `travel_info.csv`. The data summarizes the progress of each truck on the journey from its most recently visited city to its next destination by recording the remaining distance left to travel on each day of the simulation."
   ]
  },
  {
   "cell_type": "code",
   "execution_count": null,
   "id": "57743ca6-e2b8-4988-903c-08ecb5aa49a3",
   "metadata": {
    "tags": []
   },
   "outputs": [],
   "source": [
    "travel_log_df = ground_shipping_logistics_job.results.csv_output('travel_log.csv')\n",
    "travel_log_df"
   ]
  },
  {
   "cell_type": "code",
   "execution_count": null,
   "id": "1332ee53-ea2c-4d5f-9103-6896ec45ea72",
   "metadata": {
    "tags": []
   },
   "outputs": [],
   "source": [
    "ground_shipping_logistics_job.delete(interactive=False)"
   ]
  }
 ],
 "metadata": {
  "kernelspec": {
   "display_name": "Python 3 (ipykernel)",
   "language": "python",
   "name": "python3"
  },
  "language_info": {
   "codemirror_mode": {
    "name": "ipython",
    "version": 3
   },
   "file_extension": ".py",
   "mimetype": "text/x-python",
   "name": "python",
   "nbconvert_exporter": "python",
   "pygments_lexer": "ipython3",
   "version": "3.10.10"
  }
 },
 "nbformat": 4,
 "nbformat_minor": 5
}
