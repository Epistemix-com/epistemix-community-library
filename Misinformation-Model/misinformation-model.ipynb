{
 "cells": [
  {
   "cell_type": "markdown",
   "id": "aee40182-b486-4e3a-8e3c-857b1e8fb604",
   "metadata": {
    "tags": []
   },
   "source": [
    "### To run this model yourself: go to Run -> Run All Cells in the top left menu bar."
   ]
  },
  {
   "cell_type": "code",
   "execution_count": null,
   "id": "25276c8a-fa83-4420-bfd1-82f3be7aea53",
   "metadata": {
    "tags": []
   },
   "outputs": [],
   "source": [
    "from epx import Job, ModelConfig, SynthPop\n",
    "\n",
    "import pandas as pd\n",
    "import numpy as np\n",
    "\n",
    "import networkx as nx\n",
    "\n",
    "import matplotlib as mpl\n",
    "import matplotlib.pyplot as plt\n",
    "\n",
    "import plotly.express as px\n",
    "import plotly.io as pio\n",
    "import plotly.graph_objects as go\n",
    "import requests\n",
    "\n",
    "# Use the Epistemix default plotly template\n",
    "r = requests.get(\"https://gist.githubusercontent.com/daniel-epistemix/8009ad31ebfa96ac97b7be038c014c0d/raw/320c3b0ca3dfbf7946e49c97254fa65d4753aeac/epx_plotly_theme.json\")\n",
    "if r.status_code == 200:\n",
    "    pio.templates[\"epistemix\"] = go.layout.Template(r.json())\n",
    "    pio.templates.default = \"epistemix\""
   ]
  },
  {
   "cell_type": "code",
   "execution_count": null,
   "id": "46d53478-b65d-4bd6-a049-8a1adf1abc3e",
   "metadata": {
    "tags": []
   },
   "outputs": [],
   "source": [
    "plt.style.use(\"seaborn-v0_8-darkgrid\")\n",
    "\n",
    "mpl.rc(\"axes\", grid=True, facecolor=\"#000533\", labelcolor=\"#F3F3F7\")\n",
    "mpl.rc(\"figure\", facecolor=\"#000533\")\n",
    "mpl.rc(\"grid\", color=\"#6C76A8\", linewidth=0.7)\n",
    "mpl.rc(\"text\", color=\"#F3F3F7\")\n",
    "mpl.rc(\"xtick\", color=\"#F3F3F7\")\n",
    "mpl.rc(\"ytick\", color=\"#F3F3F7\")"
   ]
  },
  {
   "cell_type": "markdown",
   "id": "25619163-afe2-4d69-99ec-8bcd61ccba7f",
   "metadata": {},
   "source": [
    "# Idea Evolution and Misinformation"
   ]
  },
  {
   "cell_type": "code",
   "execution_count": null,
   "id": "4dfa2c10-9b2f-4052-ad4a-38c715166c7b",
   "metadata": {},
   "outputs": [],
   "source": [
    "misinformation_config = ModelConfig(synth_pop=SynthPop(\"US_2010.v5\", [\"Butte_County_ID\"]),\n",
    "    start_date = \"2023-01-01\",\n",
    "    end_date = \"2024-01-01\")\n",
    "\n",
    "results_dir = \"/home/epx/cl-results\"\n",
    "\n",
    "# Configure FRED job\n",
    "misinformation_job = Job(\n",
    "    \"model/main.fred\",\n",
    "    config=[misinformation_config],\n",
    "    key=\"misinformation_job\",\n",
    "    results_dir=results_dir,\n",
    "    size=\"hot\",\n",
    "    # Select FRED version compatible with selected model\n",
    "    fred_version=\"11.0.1\"\n",
    ")\n",
    "\n",
    "# Execute job\n",
    "misinformation_job.execute()\n",
    "\n",
    "import time\n",
    "# the following loop idles while we wait for the simulation job to finish and periodically prints an update\n",
    "update_count = 0\n",
    "update_interval = 3\n",
    "start_time = time.time()\n",
    "timeout   = 300 # timeout in seconds\n",
    "idle_time = 20   # time to wait (in seconds) before checking status again\n",
    "while str(misinformation_job.status) != 'DONE':\n",
    "    if str(misinformation_job.status) == 'ERROR':\n",
    "        logs = misinformation_job.status.logs\n",
    "        log_msg = \"; \".join(logs.loc[logs.level == \"ERROR\"].message.tolist())\n",
    "        print(f\"Job failed with the following error:\\n '{log_msg}'\")\n",
    "        break\n",
    "    if time.time() > start_time + timeout:\n",
    "        msg = f\"Job did not finish within {timeout / 60} minutes.\"\n",
    "        raise RuntimeError(msg)\n",
    "    \n",
    "    if update_count >= update_interval:\n",
    "        update_count = 0\n",
    "        print(f\"Job is still processing after {time.time() - start_time:.0f} seconds\")\n",
    "        \n",
    "    update_count += 1\n",
    "    \n",
    "    time.sleep(idle_time)\n",
    "\n",
    "print(f\"Job completed in {time.time() - start_time:.0f} seconds\")\n",
    "\n",
    "str(misinformation_job.status)"
   ]
  },
  {
   "cell_type": "code",
   "execution_count": null,
   "id": "a73b3ea0-c248-46b6-97fa-ed45e8e81160",
   "metadata": {
    "tags": []
   },
   "outputs": [],
   "source": [
    "network = misinformation_job.results.csv_output(\"network_edges.csv\")\n",
    "idea = misinformation_job.results.csv_output(\"idea_evolution.csv\")"
   ]
  },
  {
   "cell_type": "markdown",
   "id": "6a481b3b-a88e-4f87-91d1-cdbf1c15225e",
   "metadata": {},
   "source": [
    "## Agent Network\n",
    "\n",
    "First we'll take a look at a subset of the network generated based on the agent's daily interactions. In the visualization below, each white dot is an agent (network node), and the lines are connections between the agents (network edges). The color and thickness of the lines represents the strength of that connection (network weights). \n",
    "\n",
    "In this model, connection strength is randomly drawn from a range of values which varies based on where the connection is made (a higher value range for at-home connections, intermediate range for work or school, lower range for connections made through the community at large). "
   ]
  },
  {
   "cell_type": "code",
   "execution_count": null,
   "id": "a3fbf82e-2b3b-4fc1-a1b7-a93ff5908b76",
   "metadata": {
    "tags": []
   },
   "outputs": [],
   "source": [
    "plot_sample = network[network.X != network.Y].iloc[:500]\n",
    "\n",
    "G = nx.Graph()\n",
    "\n",
    "fig1, ax1 = plt.subplots(figsize=(16, 16))\n",
    "for u, v, x in zip(plot_sample[\"X\"], plot_sample[\"Y\"], plot_sample[\"weight\"]):\n",
    "    G.add_edge(u, v, weight=x)\n",
    "\n",
    "nx.draw_networkx(\n",
    "    G,\n",
    "    node_color=\"#E8ECFC\",\n",
    "    node_size=80,\n",
    "    linewidths=2.5,\n",
    "    width=(plot_sample.weight + 0.2) * 8,\n",
    "    edge_color=plt.cm.viridis(plot_sample.weight),\n",
    "    edgecolors=\"#000533\",\n",
    "    with_labels=False,\n",
    "    pos=nx.spring_layout(G),\n",
    ")"
   ]
  },
  {
   "cell_type": "markdown",
   "id": "eb357222-8284-489c-a5ea-cfbe201054a0",
   "metadata": {},
   "source": [
    "## Idea Spread\n",
    "\n",
    "This model represents a single \"idea\" with a pair of (x,y) coordinates. A certain number of randomly selected agents (set by the `n_idea_seeds` variable; default=10) are originators of the idea, beginning with idea coordinates (0,0). They each seek out a friend (drawn from their network links) to share with. Each sharing of the idea slightly garbles the messages (adds noise drawn from `uniform(-0.1,0.1)` to each coordinate).\n",
    "\n",
    "In the visualization below, we can see just how much the \"idea\" values evolve with time. Each marker represents a set of values of the idea as heard by an agent, and the markers are color-coded by what simulation day they heard the idea on. ~250 days after the idea appeared, we have agents who report the idea values to be (-0.1, 0.6) and some who report (0.1, -1.9)."
   ]
  },
  {
   "cell_type": "code",
   "execution_count": null,
   "id": "0cf596ff-3d78-43d1-9b7d-9c4f32e27413",
   "metadata": {
    "tags": []
   },
   "outputs": [],
   "source": [
    "fig, ax = plt.subplots(figsize=(7, 6))\n",
    "tmp_idea = idea[idea.my_origin != 0]\n",
    "for i in range(len(tmp_idea)):\n",
    "    node1 = tmp_idea.iloc[i]\n",
    "    node2 = idea[(idea.ID == node1.my_origin)].iloc[0]\n",
    "    ax.plot([node1.my_x, node2.my_x], [node1.my_y, node2.my_y], c=\"w\", zorder=0, lw=1)\n",
    "\n",
    "sc = ax.scatter(idea.my_x, idea.my_y, c=idea.simday, cmap=plt.cm.viridis)\n",
    "cb = plt.colorbar(sc, label=\"Simday\")"
   ]
  },
  {
   "cell_type": "markdown",
   "id": "d664cbfb-8394-4027-842a-4155eb24894d",
   "metadata": {},
   "source": [
    "The figure below highlights a single \"idea chain\" to show just how much a single game of telephone can distort the idea."
   ]
  },
  {
   "cell_type": "code",
   "execution_count": null,
   "id": "d5bbca78-e3fc-481a-b240-d5d4496db2e9",
   "metadata": {
    "tags": []
   },
   "outputs": [],
   "source": [
    "fig, ax = plt.subplots(figsize=(6, 6))\n",
    "\n",
    "idea_line_x = []\n",
    "idea_line_y = []\n",
    "for j in range(1, 10):\n",
    "    start_id = idea.iloc[j].ID\n",
    "    for i in range(len(idea)):\n",
    "        if len(idea[idea.my_origin == start_id]) == 0:\n",
    "            break\n",
    "        node1 = idea[idea.ID == start_id].iloc[0]\n",
    "        node2 = idea[idea.my_origin == start_id].iloc[0]\n",
    "        ax.plot(\n",
    "            [node1.my_x, node2.my_x],\n",
    "            [node1.my_y, node2.my_y],\n",
    "            c=\"#8C96CA\",\n",
    "            zorder=0,\n",
    "            lw=0.7,\n",
    "        )\n",
    "\n",
    "        start_id = node2.ID\n",
    "        idea_line_x += [node2.my_x]\n",
    "        idea_line_y += [node2.my_y]\n",
    "\n",
    "ax.scatter(idea_line_x, idea_line_y, c=\"#8C96CA\", s=2, alpha=0.8)\n",
    "\n",
    "idea_line_x = []\n",
    "idea_line_y = []\n",
    "idea_line_c = []\n",
    "start_id = idea.iloc[0].ID\n",
    "for i in range(len(idea)):\n",
    "    if len(idea[idea.my_origin == start_id]) == 0:\n",
    "        break\n",
    "    node1 = idea[idea.ID == start_id].iloc[0]\n",
    "    node2 = idea[idea.my_origin == start_id].iloc[0]\n",
    "    ax.plot([node1.my_x, node2.my_x], [node1.my_y, node2.my_y], c=\"w\", zorder=1, lw=1.2)\n",
    "\n",
    "    start_id = node2.ID\n",
    "    idea_line_x += [node2.my_x]\n",
    "    idea_line_y += [node2.my_y]\n",
    "    idea_line_c += [node2.simday]\n",
    "\n",
    "ax.scatter(\n",
    "    idea_line_x,\n",
    "    idea_line_y,\n",
    "    c=idea_line_c,\n",
    "    cmap=plt.cm.viridis,\n",
    "    edgecolor=\"w\",\n",
    "    s=60,\n",
    "    linewidth=1.2,\n",
    ")"
   ]
  },
  {
   "cell_type": "markdown",
   "id": "564a65de-af1c-44af-b262-3dd24ccab7be",
   "metadata": {},
   "source": [
    "Finally, we can animate the idea's evolution, starting from the 10 seeds all at (0,0) and watch how the idea changes with each transfer."
   ]
  },
  {
   "cell_type": "code",
   "execution_count": null,
   "id": "05c3c21c-a0ce-4063-8666-7a8ac615a162",
   "metadata": {
    "tags": []
   },
   "outputs": [],
   "source": [
    "%%capture\n",
    "\n",
    "anim_tmp = idea[idea.simday == 3].copy()\n",
    "anim_tmp = anim_tmp.assign(\n",
    "    color=[\"Old\", \"New\", \"New\", \"New\", \"New\", \"New\", \"New\", \"New\", \"New\", \"New\"]\n",
    ")\n",
    "\n",
    "\n",
    "for i in range(4, idea.simday.max() + 1):\n",
    "    tmp1 = idea[idea.simday < i]\n",
    "    tmp1[\"simday\"] = i\n",
    "    tmp1 = tmp1.assign(color=\"Old\")\n",
    "\n",
    "    tmp2 = idea[idea.simday == i]\n",
    "    tmp2 = tmp2.assign(color=\"New\")\n",
    "\n",
    "    anim_tmp = pd.concat([anim_tmp, tmp1, tmp2])"
   ]
  },
  {
   "cell_type": "code",
   "execution_count": null,
   "id": "5b08d1f3-970d-44ab-9205-da275e3d985b",
   "metadata": {
    "tags": []
   },
   "outputs": [],
   "source": [
    "def evo_idea_axis_range(\n",
    "    coord_col: pd.Series, pad_fac: float = 0.02\n",
    ") -> tuple[float, float]:\n",
    "    \"\"\"Get the axis range for a dimension in the ``anim_tmp`` DataFrame.\n",
    "    \n",
    "    Parameters\n",
    "    ----------\n",
    "    coord_col : pd.Series\n",
    "        A column containing time series for phase space coordinates of\n",
    "        all 'ideas'. E.g. ``anim_tmp[\"my_x\"]``.\n",
    "    pad_fac : float, optional\n",
    "        Padding factor for axis boundaries. E.g. to pad 5% beyond the\n",
    "        maximum distance travelled from the origin in the relevant\n",
    "        dimension use ``pad_fac=0.05``. Defaults to 0.02.\n",
    "        \n",
    "    Returns\n",
    "    -------\n",
    "    tuple[float, float]\n",
    "        Minimum and maximum axis extents.\n",
    "    \"\"\"\n",
    "    max_spread = max(abs(coord_col.min()), abs(coord_col.max()))\n",
    "    return (max_spread * -1 * (1 + pad_fac), max_spread * (1 + pad_fac))\n",
    "\n",
    "\n",
    "fig = px.scatter(\n",
    "    anim_tmp,\n",
    "    x=\"my_x\",\n",
    "    y=\"my_y\",\n",
    "    animation_frame=\"simday\",\n",
    "    animation_group=\"ID\",\n",
    "    color=\"color\",\n",
    "    range_x=evo_idea_axis_range(anim_tmp[\"my_x\"]),\n",
    "    range_y=evo_idea_axis_range(anim_tmp[\"my_y\"]),\n",
    ")\n",
    "\n",
    "\n",
    "fig.update_layout(\n",
    "    height=600,\n",
    ")\n",
    "\n",
    "fig.layout.updatemenus[0].buttons[0].args[1][\"frame\"][\"duration\"] = 100\n",
    "fig.layout.updatemenus[0].buttons[0].args[1][\"transition\"][\"duration\"] = 0\n",
    "\n",
    "fig.update_layout(\n",
    "    font_family=\"Epistemix Label\",\n",
    "    title=\"The Evolution of an Idea\",\n",
    "    title_font_size=24,\n",
    ")\n",
    "\n",
    "fig.show()"
   ]
  },
  {
   "cell_type": "markdown",
   "id": "d366fe11-e00a-4b27-a2f4-9ceb9b65dda1",
   "metadata": {},
   "source": [
    "To conserve resources and avoid file conflicts, be sure to delete your job and its associated results once the job itself is out-of-scope:"
   ]
  },
  {
   "cell_type": "code",
   "execution_count": null,
   "id": "123e32f9-f407-4c80-a6aa-c1e599c07e29",
   "metadata": {
    "tags": []
   },
   "outputs": [],
   "source": [
    "misinformation_job.delete(interactive=False)"
   ]
  }
 ],
 "metadata": {
  "kernelspec": {
   "display_name": "Python 3 (ipykernel)",
   "language": "python",
   "name": "python3"
  },
  "language_info": {
   "codemirror_mode": {
    "name": "ipython",
    "version": 3
   },
   "file_extension": ".py",
   "mimetype": "text/x-python",
   "name": "python",
   "nbconvert_exporter": "python",
   "pygments_lexer": "ipython3",
   "version": "3.10.10"
  }
 },
 "nbformat": 4,
 "nbformat_minor": 5
}
