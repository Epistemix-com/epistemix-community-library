{
 "cells": [
  {
   "cell_type": "markdown",
   "id": "4654e5fc-feea-408e-bfd6-792e0f98ca6c",
   "metadata": {},
   "source": [
    "### To run this model yourself: go to Run -> Run All Cells in the top left menu bar."
   ]
  },
  {
   "cell_type": "code",
   "execution_count": null,
   "id": "8de358ab-6d82-4750-9e74-a8b57cb2f9d2",
   "metadata": {
    "tags": []
   },
   "outputs": [],
   "source": [
    "from epx import Job, ModelConfig, SynthPop\n",
    "\n",
    "import pandas as pd\n",
    "import numpy as np\n",
    "import time\n",
    "\n",
    "import matplotlib.pyplot as plt\n",
    "\n",
    "import plotly.express as px\n",
    "import plotly.graph_objects as go\n",
    "\n",
    "import plotly.io as pio\n",
    "from plotly.subplots import make_subplots\n",
    "import requests\n",
    "\n",
    "# Use the Epistemix default plotly template\n",
    "r = requests.get(\"https://gist.githubusercontent.com/daniel-epistemix/8009ad31ebfa96ac97b7be038c014c0d/raw/320c3b0ca3dfbf7946e49c97254fa65d4753aeac/epx_plotly_theme.json\")\n",
    "if r.status_code == 200:\n",
    "    pio.templates[\"epistemix\"] = go.layout.Template(r.json())\n",
    "    pio.templates.default = \"epistemix\""
   ]
  },
  {
   "cell_type": "markdown",
   "id": "aa560438-b344-455c-9cb7-943dc8609aee",
   "metadata": {},
   "source": [
    "# Epstein rebellion model (grid implementation)\n",
    "\n",
    "This model captures the evolution of civil violence in a population split into regular agents, who are disaffected and willing to rebel if the conditions are right, and cop agents, who try to quell rebellion by jailing those agents.\n",
    "\n",
    "In this implementation, agents move across a simple grid, making a single move each day. Based on their close neighbors (determined by the vision parameter), they assess if their personal grievance is higher than their risk of being arrested (determined by the ratio of already rebelling agents to cops in the neighborhood).\n",
    "\n",
    "### Key simulation variables\n",
    "\n",
    "- simulation grid size: 40x40\n",
    "- agent density: 0.7\n",
    "- cop density: 0.05\n",
    "- government legitimacy: 0.7\n",
    "- max jail sentence: 15 days\n",
    "- agent vision: 7\n",
    "- rebellion threshold: 0.1"
   ]
  },
  {
   "cell_type": "markdown",
   "id": "b73af428-3038-4597-9a98-9116a84b5ee1",
   "metadata": {},
   "source": [
    "## Agent setup\n",
    "\n",
    "This model uses custom agents generated below, rather than the built in synthetic population."
   ]
  },
  {
   "cell_type": "code",
   "execution_count": null,
   "id": "3ef87870-518b-42e2-9c1a-49b960e23782",
   "metadata": {
    "tags": []
   },
   "outputs": [],
   "source": [
    "neighborhood_size = 40\n",
    "tot_places = neighborhood_size**2\n",
    "\n",
    "agent_density = 0.7\n",
    "cop_density = 0.05\n",
    "\n",
    "n_regular_agents = int(agent_density*tot_places)\n",
    "n_cop_agents = int(cop_density*tot_places)\n",
    "\n",
    "nx, ny = np.meshgrid(np.arange(1,neighborhood_size+1), \n",
    "                     np.arange(1,neighborhood_size+1))\n",
    "\n",
    "place_agents = pd.DataFrame()\n",
    "place_agents[\"ID\"] = np.arange(1,neighborhood_size**2+1)\n",
    "place_agents[\"x_pos\"] = nx.ravel()\n",
    "place_agents[\"y_pos\"] = ny.ravel()\n",
    "place_agents[\"agent_type\"] = 1\n",
    "\n",
    "regular_id_int = 10000\n",
    "regular_agents = pd.DataFrame()\n",
    "regular_agents[\"ID\"] = np.arange(regular_id_int+1,regular_id_int+n_regular_agents+1)\n",
    "regular_agents[\"agent_type\"] = 2\n",
    "\n",
    "cop_id_int = 20000\n",
    "cop_agents = pd.DataFrame()\n",
    "cop_agents[\"ID\"] = np.arange(cop_id_int+1,cop_id_int+n_cop_agents+1)\n",
    "cop_agents[\"agent_type\"] = 3\n",
    "\n",
    "place_agents.to_csv(\"place_agents.csv\", index=False)\n",
    "regular_agents.to_csv(\"regular_agents.csv\", index=False)\n",
    "cop_agents.to_csv(\"cop_agents.csv\", index=False)"
   ]
  },
  {
   "cell_type": "markdown",
   "id": "46541984-da27-4cbe-aa0d-af6fab3bea37",
   "metadata": {},
   "source": [
    "## Running the Model"
   ]
  },
  {
   "cell_type": "code",
   "execution_count": null,
   "id": "5a303b00-be91-4047-9b95-741f0e040f68",
   "metadata": {
    "tags": []
   },
   "outputs": [],
   "source": [
    "epstein_rebellion_grid_config = ModelConfig(\n",
    "             synth_pop=SynthPop(\"US_2010.v5\", [\"None\"]),\n",
    "             start_date=\"2023-01-01\",\n",
    "             end_date=\"2023-04-01\",\n",
    "         )\n",
    "\n",
    "epstein_rebellion_grid_job = Job(\n",
    "    \"model/rebellion.fred\",\n",
    "    config=[epstein_rebellion_grid_config],\n",
    "    key=\"cl_epstein_rebellion_grid_job\",\n",
    "    fred_version=\"11.0.1\",\n",
    "    results_dir=\"/home/epx/cl-results\"\n",
    ")\n",
    "\n",
    "\n",
    "epstein_rebellion_grid_job.execute()\n",
    "\n",
    "# the following loop idles while we wait for the simulation job to finish and periodically prints an update\n",
    "update_count = 0\n",
    "update_interval = 3\n",
    "start_time = time.time()\n",
    "timeout   = 500 # timeout in seconds\n",
    "idle_time = 20   # time to wait (in seconds) before checking status again\n",
    "while str(epstein_rebellion_grid_job.status) != 'DONE':\n",
    "    if str(epstein_rebellion_grid_job.status) == 'ERROR':\n",
    "        logs = epstein_rebellion_grid_job.status.logs\n",
    "        log_msg = \"; \".join(logs.loc[logs.level == \"ERROR\"].message.tolist())\n",
    "        print(f\"Job failed with the following error:\\n '{log_msg}'\")\n",
    "        break\n",
    "    if time.time() > start_time + timeout:\n",
    "        msg = f\"Job did not finish within {timeout / 60} minutes.\"\n",
    "        raise RuntimeError(msg)\n",
    "    \n",
    "    if update_count >= update_interval:\n",
    "        update_count = 0\n",
    "        print(f\"Job is still processing after {time.time() - start_time:.0f} seconds\")\n",
    "        \n",
    "    update_count += 1\n",
    "    \n",
    "    time.sleep(idle_time)\n",
    "\n",
    "print(f\"Job completed in {time.time() - start_time:.0f} seconds\")\n",
    "\n",
    "str(epstein_rebellion_grid_job.status)"
   ]
  },
  {
   "cell_type": "markdown",
   "id": "3d7e3dca-9e41-4d98-b7c8-503ee118b6a4",
   "metadata": {},
   "source": [
    "## Visualizing the Results"
   ]
  },
  {
   "cell_type": "code",
   "execution_count": null,
   "id": "413897da-6167-4c0c-95cf-c72e04b80081",
   "metadata": {
    "tags": []
   },
   "outputs": [],
   "source": [
    "agent_data = epstein_rebellion_grid_job.results.csv_output(\"regular_agent_info.csv\")\n",
    "movement = epstein_rebellion_grid_job.results.csv_output(\"movement.csv\")\n",
    "\n",
    "sim_data = pd.merge(left=movement, \n",
    "         right=agent_data, on=[\"id\",\"simday\"], how=\"left\").fillna(0)\n",
    "\n",
    "sim_data.agent_status = sim_data.agent_status.map({0:\"Passive\", 1:\"Rebel\", 2:\"Cop\", -1:\"Jailed\"})\n",
    "\n",
    "sim_data[\"will_to_rebel\"] = sim_data.grievance - sim_data.risk * sim_data.est_arrest_prob\n",
    "\n",
    "dates = epstein_rebellion_grid_job.results.dates()\n",
    "dates = dates.rename(columns={\"sim_day\":\"simday\"}).drop(columns=[\"run_id\"])\n",
    "\n",
    "sim_data = sim_data.merge(dates, on=\"simday\", how=\"left\")\n",
    "\n",
    "tmp = sim_data[(sim_data.simday==0)&(sim_data.agent_status==\"Passive\")].copy()\n",
    "tmp.simday = 1\n",
    "sim_data = pd.concat([sim_data, tmp])\n",
    "\n",
    "tmp = sim_data[(sim_data.simday==0)&(sim_data.agent_status==\"Cop\")].copy()\n",
    "tmp.simday = 1\n",
    "sim_data = pd.concat([sim_data, tmp])\n",
    "\n",
    "\n",
    "dict = {\"agent_status\":[\"Cop\", \"Passive\", \"Rebel\", \"Jailed\"], \n",
    "        \"simday\":[0]*4, \"id\":[0]*4, \"xloc\":[-100]*4, \"yloc\":[-1]*4, \"agent_type\":[2]*4}\n",
    "sim_data = pd.concat([pd.DataFrame(dict), sim_data])\n",
    "\n",
    "sim_data = sim_data.assign(size_val=2)"
   ]
  },
  {
   "cell_type": "code",
   "execution_count": null,
   "id": "1f93474b-bd75-462b-beff-f6a0faff90b8",
   "metadata": {
    "tags": []
   },
   "outputs": [],
   "source": [
    "agent_states = (sim_data[(sim_data.agent_status!=\"Cop\")]\n",
    " .groupby([\"simday\", \"agent_status\"]).size().to_frame().reset_index()\n",
    " .rename(columns={0:\"Count\"})\n",
    ")\n",
    "\n",
    "fig = go.Figure()\n",
    "\n",
    "for x in [\"Passive\", \"Rebel\", \"Jailed\"]:\n",
    "    fig.add_trace(\n",
    "        go.Scatter(\n",
    "            x=agent_states[agent_states.agent_status==x].simday,\n",
    "            y=agent_states[agent_states.agent_status==x].Count,\n",
    "            mode=\"lines\",\n",
    "            line=go.scatter.Line(width=3),\n",
    "            showlegend=True,\n",
    "            name=x)\n",
    "    )\n",
    "\n",
    "\n",
    "fig.update_layout(\n",
    "    font_family=\"Epistemix Label\",\n",
    "    yaxis_title=\"Count\",\n",
    "    xaxis_title=\"Sim day\",\n",
    "    legend_title=\"Agent status\",\n",
    "    title=\"Rebellion model, grid implementation\",\n",
    "    title_font_size=24,\n",
    "    hovermode=\"x unified\",height=450,\n",
    ")\n",
    "\n",
    "fig.show()"
   ]
  },
  {
   "cell_type": "code",
   "execution_count": null,
   "id": "94da45aa-f1dc-4b14-be7a-eaa5cd3cd4fd",
   "metadata": {
    "tags": []
   },
   "outputs": [],
   "source": [
    "fig = px.scatter(sim_data, \n",
    "                 x=\"xloc\", \n",
    "                 y=\"yloc\", color=\"agent_status\",\n",
    "                 color_discrete_sequence=[px.colors.qualitative.Plotly[0],\n",
    "                                          \"white\",\n",
    "                                          px.colors.qualitative.Plotly[1],\n",
    "                                          \"gray\",\n",
    "                                         ],\n",
    "                 opacity=0.8,\n",
    "                 size=\"size_val\", size_max=6,\n",
    "                 animation_frame=\"simday\",\n",
    "                 animation_group=\"id\"\n",
    "                )\n",
    "\n",
    "fig.update_layout(height=600, xaxis_range=[0,40])\n",
    "fig.update_yaxes(\n",
    "    scaleanchor=\"x\",\n",
    "    scaleratio=1,\n",
    "  )\n",
    "\n",
    "fig.layout.updatemenus[0].buttons[0].args[1][\"frame\"][\"duration\"] = 300\n",
    "fig.layout.updatemenus[0].buttons[0].args[1][\"transition\"][\"duration\"] = 0\n",
    "\n",
    "fig.show()"
   ]
  },
  {
   "cell_type": "code",
   "execution_count": null,
   "id": "e6787bcd-408e-45c2-a66f-03400ac16cbb",
   "metadata": {
    "tags": []
   },
   "outputs": [],
   "source": [
    "epstein_rebellion_grid_job.delete(interactive=False)"
   ]
  }
 ],
 "metadata": {
  "kernelspec": {
   "display_name": "Python 3 (ipykernel)",
   "language": "python",
   "name": "python3"
  },
  "language_info": {
   "codemirror_mode": {
    "name": "ipython",
    "version": 3
   },
   "file_extension": ".py",
   "mimetype": "text/x-python",
   "name": "python",
   "nbconvert_exporter": "python",
   "pygments_lexer": "ipython3",
   "version": "3.10.10"
  }
 },
 "nbformat": 4,
 "nbformat_minor": 5
}
